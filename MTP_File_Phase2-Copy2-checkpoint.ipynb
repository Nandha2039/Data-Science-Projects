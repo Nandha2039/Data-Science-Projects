{
 "cells": [
  {
   "cell_type": "code",
   "execution_count": 1,
   "id": "bfcef422",
   "metadata": {},
   "outputs": [],
   "source": [
    "#pip install hyperopt"
   ]
  },
  {
   "cell_type": "markdown",
   "id": "d19bc7a5",
   "metadata": {},
   "source": [
    "# Importing necessary Library files and python modules."
   ]
  },
  {
   "cell_type": "code",
   "execution_count": 2,
   "id": "bcccc5cd",
   "metadata": {},
   "outputs": [],
   "source": [
    "import math "
   ]
  },
  {
   "cell_type": "code",
   "execution_count": 3,
   "id": "ab48f0d7",
   "metadata": {},
   "outputs": [],
   "source": [
    "import pandas as pd\n",
    "import numpy as np\n",
    "from matplotlib import pyplot as plt \n",
    "from sklearn.ensemble import RandomForestRegressor\n",
    "from sklearn.model_selection import train_test_split\n",
    "from sklearn.model_selection import GridSearchCV\n",
    "import seaborn as sns\n",
    "import matplotlib.pyplot as plt\n",
    "from sklearn.tree import plot_tree\n",
    "import xgboost as xgb\n",
    "from sklearn.metrics import balanced_accuracy_score,roc_auc_score,make_scorer\n",
    "from hyperopt import STATUS_OK, Trials, fmin, hp, tpe"
   ]
  },
  {
   "cell_type": "markdown",
   "id": "d94f19a7",
   "metadata": {},
   "source": [
    "# Reading the data file from the local storage."
   ]
  },
  {
   "cell_type": "code",
   "execution_count": 4,
   "id": "21b5a2d7",
   "metadata": {},
   "outputs": [],
   "source": [
    "df = pd.read_excel (r'C:\\Users\\HP\\Downloads\\Project_Dataset-2_twist.xlsx', sheet_name='STB_Zeroes_xnbr_final')"
   ]
  },
  {
   "cell_type": "code",
   "execution_count": 5,
   "id": "b312a454",
   "metadata": {},
   "outputs": [
    {
     "data": {
      "text/html": [
       "<div>\n",
       "<style scoped>\n",
       "    .dataframe tbody tr th:only-of-type {\n",
       "        vertical-align: middle;\n",
       "    }\n",
       "\n",
       "    .dataframe tbody tr th {\n",
       "        vertical-align: top;\n",
       "    }\n",
       "\n",
       "    .dataframe thead th {\n",
       "        text-align: right;\n",
       "    }\n",
       "</style>\n",
       "<table border=\"1\" class=\"dataframe\">\n",
       "  <thead>\n",
       "    <tr style=\"text-align: right;\">\n",
       "      <th></th>\n",
       "      <th>Long Chain Fraction</th>\n",
       "      <th>Short Chain Fraction</th>\n",
       "      <th>MwL</th>\n",
       "      <th>MwS</th>\n",
       "      <th>Type</th>\n",
       "      <th>Stress (N/mm2)</th>\n",
       "      <th>Strain (%)</th>\n",
       "      <th>Info</th>\n",
       "      <th>Unnamed: 8</th>\n",
       "      <th>Unnamed: 9</th>\n",
       "      <th>Unnamed: 10</th>\n",
       "      <th>Unnamed: 11</th>\n",
       "      <th>Unnamed: 12</th>\n",
       "      <th>Unnamed: 13</th>\n",
       "      <th>Unnamed: 14</th>\n",
       "      <th>Unnamed: 15</th>\n",
       "    </tr>\n",
       "  </thead>\n",
       "  <tbody>\n",
       "    <tr>\n",
       "      <th>0</th>\n",
       "      <td>0.0</td>\n",
       "      <td>1.0</td>\n",
       "      <td>18952</td>\n",
       "      <td>4323</td>\n",
       "      <td>1</td>\n",
       "      <td>0.001329</td>\n",
       "      <td>0.1848</td>\n",
       "      <td>Pure-Short</td>\n",
       "      <td>NaN</td>\n",
       "      <td>NaN</td>\n",
       "      <td>NaN</td>\n",
       "      <td>NaN</td>\n",
       "      <td>NaN</td>\n",
       "      <td>NaN</td>\n",
       "      <td>NaN</td>\n",
       "      <td>NaN</td>\n",
       "    </tr>\n",
       "    <tr>\n",
       "      <th>1</th>\n",
       "      <td>0.0</td>\n",
       "      <td>1.0</td>\n",
       "      <td>18952</td>\n",
       "      <td>4323</td>\n",
       "      <td>1</td>\n",
       "      <td>0.002660</td>\n",
       "      <td>0.2450</td>\n",
       "      <td>Pure-Short</td>\n",
       "      <td>NaN</td>\n",
       "      <td>NaN</td>\n",
       "      <td>NaN</td>\n",
       "      <td>NaN</td>\n",
       "      <td>NaN</td>\n",
       "      <td>NaN</td>\n",
       "      <td>NaN</td>\n",
       "      <td>NaN</td>\n",
       "    </tr>\n",
       "    <tr>\n",
       "      <th>2</th>\n",
       "      <td>0.0</td>\n",
       "      <td>1.0</td>\n",
       "      <td>18952</td>\n",
       "      <td>4323</td>\n",
       "      <td>1</td>\n",
       "      <td>0.005310</td>\n",
       "      <td>0.3090</td>\n",
       "      <td>Pure-Short</td>\n",
       "      <td>NaN</td>\n",
       "      <td>NaN</td>\n",
       "      <td>NaN</td>\n",
       "      <td>NaN</td>\n",
       "      <td>NaN</td>\n",
       "      <td>NaN</td>\n",
       "      <td>NaN</td>\n",
       "      <td>NaN</td>\n",
       "    </tr>\n",
       "    <tr>\n",
       "      <th>3</th>\n",
       "      <td>0.0</td>\n",
       "      <td>1.0</td>\n",
       "      <td>18952</td>\n",
       "      <td>4323</td>\n",
       "      <td>1</td>\n",
       "      <td>0.006640</td>\n",
       "      <td>0.3820</td>\n",
       "      <td>Pure-Short</td>\n",
       "      <td>NaN</td>\n",
       "      <td>NaN</td>\n",
       "      <td>NaN</td>\n",
       "      <td>NaN</td>\n",
       "      <td>NaN</td>\n",
       "      <td>NaN</td>\n",
       "      <td>NaN</td>\n",
       "      <td>NaN</td>\n",
       "    </tr>\n",
       "    <tr>\n",
       "      <th>4</th>\n",
       "      <td>0.0</td>\n",
       "      <td>1.0</td>\n",
       "      <td>18952</td>\n",
       "      <td>4323</td>\n",
       "      <td>1</td>\n",
       "      <td>0.007970</td>\n",
       "      <td>0.4330</td>\n",
       "      <td>Pure-Short</td>\n",
       "      <td>NaN</td>\n",
       "      <td>NaN</td>\n",
       "      <td>NaN</td>\n",
       "      <td>NaN</td>\n",
       "      <td>NaN</td>\n",
       "      <td>NaN</td>\n",
       "      <td>NaN</td>\n",
       "      <td>NaN</td>\n",
       "    </tr>\n",
       "  </tbody>\n",
       "</table>\n",
       "</div>"
      ],
      "text/plain": [
       "   Long Chain Fraction  Short Chain Fraction    MwL   MwS  Type  \\\n",
       "0                  0.0                   1.0  18952  4323     1   \n",
       "1                  0.0                   1.0  18952  4323     1   \n",
       "2                  0.0                   1.0  18952  4323     1   \n",
       "3                  0.0                   1.0  18952  4323     1   \n",
       "4                  0.0                   1.0  18952  4323     1   \n",
       "\n",
       "   Stress (N/mm2)  Strain (%)        Info  Unnamed: 8  Unnamed: 9  \\\n",
       "0        0.001329      0.1848  Pure-Short         NaN         NaN   \n",
       "1        0.002660      0.2450  Pure-Short         NaN         NaN   \n",
       "2        0.005310      0.3090  Pure-Short         NaN         NaN   \n",
       "3        0.006640      0.3820  Pure-Short         NaN         NaN   \n",
       "4        0.007970      0.4330  Pure-Short         NaN         NaN   \n",
       "\n",
       "   Unnamed: 10  Unnamed: 11  Unnamed: 12  Unnamed: 13  Unnamed: 14  \\\n",
       "0          NaN          NaN          NaN          NaN          NaN   \n",
       "1          NaN          NaN          NaN          NaN          NaN   \n",
       "2          NaN          NaN          NaN          NaN          NaN   \n",
       "3          NaN          NaN          NaN          NaN          NaN   \n",
       "4          NaN          NaN          NaN          NaN          NaN   \n",
       "\n",
       "   Unnamed: 15  \n",
       "0          NaN  \n",
       "1          NaN  \n",
       "2          NaN  \n",
       "3          NaN  \n",
       "4          NaN  "
      ]
     },
     "execution_count": 5,
     "metadata": {},
     "output_type": "execute_result"
    }
   ],
   "source": [
    "df.head()"
   ]
  },
  {
   "cell_type": "markdown",
   "id": "e3c24c15",
   "metadata": {},
   "source": [
    "# Stress- Strain data of PDMS, XNBR, and XNBR composite with ZnO and MgO"
   ]
  },
  {
   "cell_type": "code",
   "execution_count": 6,
   "id": "6f12d8d8",
   "metadata": {
    "scrolled": true
   },
   "outputs": [
    {
     "data": {
      "text/plain": [
       "<AxesSubplot:xlabel='Strain (%)', ylabel='Stress (N/mm2)'>"
      ]
     },
     "execution_count": 6,
     "metadata": {},
     "output_type": "execute_result"
    },
    {
     "data": {
      "image/png": "[encoded data removed]",
      "text/plain": [
       "<Figure size 432x288 with 1 Axes>"
      ]
     },
     "metadata": {
      "needs_background": "light"
     },
     "output_type": "display_data"
    }
   ],
   "source": [
    "df.plot.scatter(x='Strain (%)',y='Stress (N/mm2)')"
   ]
  },
  {
   "cell_type": "code",
   "execution_count": 7,
   "id": "d959e9d1",
   "metadata": {},
   "outputs": [],
   "source": [
    "dfv1=df.drop(['Unnamed: 8','Unnamed: 9','Unnamed: 10','Unnamed: 11','Unnamed: 12','Unnamed: 13','Unnamed: 14','Unnamed: 15'],axis=1)\n"
   ]
  },
  {
   "cell_type": "code",
   "execution_count": 9,
   "id": "ea14b037",
   "metadata": {
    "scrolled": false
   },
   "outputs": [
    {
     "data": {
      "text/html": [
       "<div>\n",
       "<style scoped>\n",
       "    .dataframe tbody tr th:only-of-type {\n",
       "        vertical-align: middle;\n",
       "    }\n",
       "\n",
       "    .dataframe tbody tr th {\n",
       "        vertical-align: top;\n",
       "    }\n",
       "\n",
       "    .dataframe thead th {\n",
       "        text-align: right;\n",
       "    }\n",
       "</style>\n",
       "<table border=\"1\" class=\"dataframe\">\n",
       "  <thead>\n",
       "    <tr style=\"text-align: right;\">\n",
       "      <th></th>\n",
       "      <th>Long Chain Fraction</th>\n",
       "      <th>Short Chain Fraction</th>\n",
       "      <th>MwL</th>\n",
       "      <th>MwS</th>\n",
       "      <th>Type</th>\n",
       "      <th>Stress (N/mm2)</th>\n",
       "      <th>Strain (%)</th>\n",
       "      <th>Info</th>\n",
       "    </tr>\n",
       "  </thead>\n",
       "  <tbody>\n",
       "    <tr>\n",
       "      <th>0</th>\n",
       "      <td>0.0</td>\n",
       "      <td>1.0</td>\n",
       "      <td>18952</td>\n",
       "      <td>4323</td>\n",
       "      <td>1</td>\n",
       "      <td>0.001329</td>\n",
       "      <td>0.1848</td>\n",
       "      <td>Pure-Short</td>\n",
       "    </tr>\n",
       "    <tr>\n",
       "      <th>1</th>\n",
       "      <td>0.0</td>\n",
       "      <td>1.0</td>\n",
       "      <td>18952</td>\n",
       "      <td>4323</td>\n",
       "      <td>1</td>\n",
       "      <td>0.002660</td>\n",
       "      <td>0.2450</td>\n",
       "      <td>Pure-Short</td>\n",
       "    </tr>\n",
       "    <tr>\n",
       "      <th>2</th>\n",
       "      <td>0.0</td>\n",
       "      <td>1.0</td>\n",
       "      <td>18952</td>\n",
       "      <td>4323</td>\n",
       "      <td>1</td>\n",
       "      <td>0.005310</td>\n",
       "      <td>0.3090</td>\n",
       "      <td>Pure-Short</td>\n",
       "    </tr>\n",
       "    <tr>\n",
       "      <th>3</th>\n",
       "      <td>0.0</td>\n",
       "      <td>1.0</td>\n",
       "      <td>18952</td>\n",
       "      <td>4323</td>\n",
       "      <td>1</td>\n",
       "      <td>0.006640</td>\n",
       "      <td>0.3820</td>\n",
       "      <td>Pure-Short</td>\n",
       "    </tr>\n",
       "    <tr>\n",
       "      <th>4</th>\n",
       "      <td>0.0</td>\n",
       "      <td>1.0</td>\n",
       "      <td>18952</td>\n",
       "      <td>4323</td>\n",
       "      <td>1</td>\n",
       "      <td>0.007970</td>\n",
       "      <td>0.4330</td>\n",
       "      <td>Pure-Short</td>\n",
       "    </tr>\n",
       "  </tbody>\n",
       "</table>\n",
       "</div>"
      ],
      "text/plain": [
       "   Long Chain Fraction  Short Chain Fraction    MwL   MwS  Type  \\\n",
       "0                  0.0                   1.0  18952  4323     1   \n",
       "1                  0.0                   1.0  18952  4323     1   \n",
       "2                  0.0                   1.0  18952  4323     1   \n",
       "3                  0.0                   1.0  18952  4323     1   \n",
       "4                  0.0                   1.0  18952  4323     1   \n",
       "\n",
       "   Stress (N/mm2)  Strain (%)        Info  \n",
       "0        0.001329      0.1848  Pure-Short  \n",
       "1        0.002660      0.2450  Pure-Short  \n",
       "2        0.005310      0.3090  Pure-Short  \n",
       "3        0.006640      0.3820  Pure-Short  \n",
       "4        0.007970      0.4330  Pure-Short  "
      ]
     },
     "execution_count": 9,
     "metadata": {},
     "output_type": "execute_result"
    }
   ],
   "source": [
    "dfv1.head() #Displaying the data set after clearing unwanted column"
   ]
  },
  {
   "cell_type": "code",
   "execution_count": 10,
   "id": "a9c5a829",
   "metadata": {},
   "outputs": [],
   "source": [
    "feature=dfv1[['Long Chain Fraction','Short Chain Fraction','MwS','MwL','Type','Stress (N/mm2)']]\n",
    "target=dfv1['Strain (%)']"
   ]
  },
  {
   "cell_type": "code",
   "execution_count": 12,
   "id": "43181b76",
   "metadata": {},
   "outputs": [
    {
     "data": {
      "text/html": [
       "<div>\n",
       "<style scoped>\n",
       "    .dataframe tbody tr th:only-of-type {\n",
       "        vertical-align: middle;\n",
       "    }\n",
       "\n",
       "    .dataframe tbody tr th {\n",
       "        vertical-align: top;\n",
       "    }\n",
       "\n",
       "    .dataframe thead th {\n",
       "        text-align: right;\n",
       "    }\n",
       "</style>\n",
       "<table border=\"1\" class=\"dataframe\">\n",
       "  <thead>\n",
       "    <tr style=\"text-align: right;\">\n",
       "      <th></th>\n",
       "      <th>Long Chain Fraction</th>\n",
       "      <th>Short Chain Fraction</th>\n",
       "      <th>MwS</th>\n",
       "      <th>MwL</th>\n",
       "      <th>Type</th>\n",
       "      <th>Stress (N/mm2)</th>\n",
       "    </tr>\n",
       "  </thead>\n",
       "  <tbody>\n",
       "    <tr>\n",
       "      <th>0</th>\n",
       "      <td>0.0</td>\n",
       "      <td>1.0</td>\n",
       "      <td>4323</td>\n",
       "      <td>18952</td>\n",
       "      <td>1</td>\n",
       "      <td>0.001329</td>\n",
       "    </tr>\n",
       "    <tr>\n",
       "      <th>1</th>\n",
       "      <td>0.0</td>\n",
       "      <td>1.0</td>\n",
       "      <td>4323</td>\n",
       "      <td>18952</td>\n",
       "      <td>1</td>\n",
       "      <td>0.002660</td>\n",
       "    </tr>\n",
       "    <tr>\n",
       "      <th>2</th>\n",
       "      <td>0.0</td>\n",
       "      <td>1.0</td>\n",
       "      <td>4323</td>\n",
       "      <td>18952</td>\n",
       "      <td>1</td>\n",
       "      <td>0.005310</td>\n",
       "    </tr>\n",
       "    <tr>\n",
       "      <th>3</th>\n",
       "      <td>0.0</td>\n",
       "      <td>1.0</td>\n",
       "      <td>4323</td>\n",
       "      <td>18952</td>\n",
       "      <td>1</td>\n",
       "      <td>0.006640</td>\n",
       "    </tr>\n",
       "    <tr>\n",
       "      <th>4</th>\n",
       "      <td>0.0</td>\n",
       "      <td>1.0</td>\n",
       "      <td>4323</td>\n",
       "      <td>18952</td>\n",
       "      <td>1</td>\n",
       "      <td>0.007970</td>\n",
       "    </tr>\n",
       "  </tbody>\n",
       "</table>\n",
       "</div>"
      ],
      "text/plain": [
       "   Long Chain Fraction  Short Chain Fraction   MwS    MwL  Type  \\\n",
       "0                  0.0                   1.0  4323  18952     1   \n",
       "1                  0.0                   1.0  4323  18952     1   \n",
       "2                  0.0                   1.0  4323  18952     1   \n",
       "3                  0.0                   1.0  4323  18952     1   \n",
       "4                  0.0                   1.0  4323  18952     1   \n",
       "\n",
       "   Stress (N/mm2)  \n",
       "0        0.001329  \n",
       "1        0.002660  \n",
       "2        0.005310  \n",
       "3        0.006640  \n",
       "4        0.007970  "
      ]
     },
     "execution_count": 12,
     "metadata": {},
     "output_type": "execute_result"
    }
   ],
   "source": [
    "feature.head() # These are the input features to the ML model, based on which it will predict the strain output for the chosen polymer."
   ]
  },
  {
   "cell_type": "code",
   "execution_count": 13,
   "id": "51d821d7",
   "metadata": {},
   "outputs": [],
   "source": [
    "tp=feature['Type']\n"
   ]
  },
  {
   "cell_type": "markdown",
   "id": "92c68913",
   "metadata": {},
   "source": [
    "# Using Stratified sampling and splitting the data set into test set and train set¶"
   ]
  },
  {
   "cell_type": "code",
   "execution_count": 15,
   "id": "fdff85b0",
   "metadata": {},
   "outputs": [],
   "source": [
    "from sklearn.model_selection import StratifiedShuffleSplit\n"
   ]
  },
  {
   "cell_type": "code",
   "execution_count": 16,
   "id": "c49b130d",
   "metadata": {},
   "outputs": [
    {
     "name": "stdout",
     "output_type": "stream",
     "text": [
      "Train set head\n",
      "Test set head\n"
     ]
    }
   ],
   "source": [
    "split = StratifiedShuffleSplit(n_splits=1, test_size=0.25, random_state=42)\n",
    "for train_index, test_index in split.split(feature, feature['Type']):\n",
    "    strat_train_set = dfv1.loc[train_index]\n",
    "    print(\"Train set head\")\n",
    "    strat_train_set.head(5)\n",
    "    strat_test_set = dfv1.loc[test_index]\n",
    "    print(\"Test set head\")\n",
    "    strat_test_set.head()\n"
   ]
  },
  {
   "cell_type": "code",
   "execution_count": 17,
   "id": "491aa265",
   "metadata": {},
   "outputs": [
    {
     "data": {
      "text/html": [
       "<div>\n",
       "<style scoped>\n",
       "    .dataframe tbody tr th:only-of-type {\n",
       "        vertical-align: middle;\n",
       "    }\n",
       "\n",
       "    .dataframe tbody tr th {\n",
       "        vertical-align: top;\n",
       "    }\n",
       "\n",
       "    .dataframe thead th {\n",
       "        text-align: right;\n",
       "    }\n",
       "</style>\n",
       "<table border=\"1\" class=\"dataframe\">\n",
       "  <thead>\n",
       "    <tr style=\"text-align: right;\">\n",
       "      <th></th>\n",
       "      <th>Long Chain Fraction</th>\n",
       "      <th>Short Chain Fraction</th>\n",
       "      <th>MwL</th>\n",
       "      <th>MwS</th>\n",
       "      <th>Type</th>\n",
       "      <th>Stress (N/mm2)</th>\n",
       "      <th>Strain (%)</th>\n",
       "      <th>Info</th>\n",
       "    </tr>\n",
       "  </thead>\n",
       "  <tbody>\n",
       "    <tr>\n",
       "      <th>8479</th>\n",
       "      <td>0.75</td>\n",
       "      <td>0.25</td>\n",
       "      <td>46000</td>\n",
       "      <td>16434</td>\n",
       "      <td>8</td>\n",
       "      <td>618.0000</td>\n",
       "      <td>2980.0</td>\n",
       "      <td>XNBR_Mgo</td>\n",
       "    </tr>\n",
       "    <tr>\n",
       "      <th>1729</th>\n",
       "      <td>1.00</td>\n",
       "      <td>0.00</td>\n",
       "      <td>18952</td>\n",
       "      <td>4323</td>\n",
       "      <td>2</td>\n",
       "      <td>0.1277</td>\n",
       "      <td>113.2</td>\n",
       "      <td>pure_long</td>\n",
       "    </tr>\n",
       "    <tr>\n",
       "      <th>6672</th>\n",
       "      <td>0.75</td>\n",
       "      <td>0.25</td>\n",
       "      <td>50000</td>\n",
       "      <td>45569</td>\n",
       "      <td>7</td>\n",
       "      <td>18.9000</td>\n",
       "      <td>102.0</td>\n",
       "      <td>XNBR_Zno</td>\n",
       "    </tr>\n",
       "    <tr>\n",
       "      <th>7423</th>\n",
       "      <td>0.75</td>\n",
       "      <td>0.25</td>\n",
       "      <td>50000</td>\n",
       "      <td>45569</td>\n",
       "      <td>7</td>\n",
       "      <td>526.0000</td>\n",
       "      <td>1080.0</td>\n",
       "      <td>XNBR_Zno</td>\n",
       "    </tr>\n",
       "    <tr>\n",
       "      <th>5792</th>\n",
       "      <td>0.75</td>\n",
       "      <td>0.25</td>\n",
       "      <td>45000</td>\n",
       "      <td>3384</td>\n",
       "      <td>6</td>\n",
       "      <td>1.5400</td>\n",
       "      <td>58.8</td>\n",
       "      <td>XNBR</td>\n",
       "    </tr>\n",
       "  </tbody>\n",
       "</table>\n",
       "</div>"
      ],
      "text/plain": [
       "      Long Chain Fraction  Short Chain Fraction    MwL    MwS  Type  \\\n",
       "8479                 0.75                  0.25  46000  16434     8   \n",
       "1729                 1.00                  0.00  18952   4323     2   \n",
       "6672                 0.75                  0.25  50000  45569     7   \n",
       "7423                 0.75                  0.25  50000  45569     7   \n",
       "5792                 0.75                  0.25  45000   3384     6   \n",
       "\n",
       "      Stress (N/mm2)  Strain (%)       Info  \n",
       "8479        618.0000      2980.0   XNBR_Mgo  \n",
       "1729          0.1277       113.2  pure_long  \n",
       "6672         18.9000       102.0   XNBR_Zno  \n",
       "7423        526.0000      1080.0   XNBR_Zno  \n",
       "5792          1.5400        58.8       XNBR  "
      ]
     },
     "execution_count": 17,
     "metadata": {},
     "output_type": "execute_result"
    }
   ],
   "source": [
    "strat_train_set.head(5)"
   ]
  },
  {
   "cell_type": "code",
   "execution_count": 18,
   "id": "5b87284f",
   "metadata": {},
   "outputs": [],
   "source": [
    "x_train=strat_train_set[['Long Chain Fraction','Short Chain Fraction','MwL','MwS','Type','Stress (N/mm2)']]\n",
    "x_test= strat_test_set[['Long Chain Fraction','Short Chain Fraction','MwL','MwS','Type','Stress (N/mm2)']]\n",
    "y_train=strat_train_set['Strain (%)']\n",
    "y_test = strat_test_set['Strain (%)']"
   ]
  },
  {
   "cell_type": "markdown",
   "id": "d87b550a",
   "metadata": {},
   "source": [
    "# Fitting the XGBOOST Regression model on the training data"
   ]
  },
  {
   "cell_type": "code",
   "execution_count": 19,
   "id": "13baa52a",
   "metadata": {},
   "outputs": [],
   "source": [
    "xgb_reg=xgb.XGBRegressor(n_estimators=2000, max_depth=6, eta=0.1)"
   ]
  },
  {
   "cell_type": "code",
   "execution_count": 20,
   "id": "ec86183b",
   "metadata": {},
   "outputs": [
    {
     "data": {
      "text/plain": [
       "XGBRegressor(base_score=None, booster=None, callbacks=None,\n",
       "             colsample_bylevel=None, colsample_bynode=None,\n",
       "             colsample_bytree=None, device=None, early_stopping_rounds=None,\n",
       "             enable_categorical=False, eta=0.1, eval_metric=None,\n",
       "             feature_types=None, gamma=None, grow_policy=None,\n",
       "             importance_type=None, interaction_constraints=None,\n",
       "             learning_rate=None, max_bin=None, max_cat_threshold=None,\n",
       "             max_cat_to_onehot=None, max_delta_step=None, max_depth=6,\n",
       "             max_leaves=None, min_child_weight=None, missing=nan,\n",
       "             monotone_constraints=None, multi_strategy=None, n_estimators=2000,\n",
       "             n_jobs=None, num_parallel_tree=None, ...)"
      ]
     },
     "execution_count": 20,
     "metadata": {},
     "output_type": "execute_result"
    }
   ],
   "source": [
    "xgb_reg.fit(x_train,y_train)"
   ]
  },
  {
   "cell_type": "markdown",
   "id": "659e965a",
   "metadata": {},
   "source": [
    "# Using the model to predict on the test data set"
   ]
  },
  {
   "cell_type": "code",
   "execution_count": 21,
   "id": "634204da",
   "metadata": {},
   "outputs": [],
   "source": [
    "y_pred=xgb_reg.predict(x_test)"
   ]
  },
  {
   "cell_type": "markdown",
   "id": "a8dabec4",
   "metadata": {},
   "source": [
    "# Overall score"
   ]
  },
  {
   "cell_type": "code",
   "execution_count": 22,
   "id": "17cf381c",
   "metadata": {},
   "outputs": [
    {
     "data": {
      "text/plain": [
       "0.9754828963327988"
      ]
     },
     "execution_count": 22,
     "metadata": {},
     "output_type": "execute_result"
    }
   ],
   "source": [
    "xgb_reg.score(x_train,y_train)"
   ]
  },
  {
   "cell_type": "markdown",
   "id": "b1b35362",
   "metadata": {},
   "source": [
    "# Prediction on test data set and its comparison with the true test data"
   ]
  },
  {
   "cell_type": "code",
   "execution_count": 23,
   "id": "c46ff798",
   "metadata": {},
   "outputs": [
    {
     "data": {
      "text/plain": [
       "Text(0.5, 0, 'Strain %')"
      ]
     },
     "execution_count": 23,
     "metadata": {},
     "output_type": "execute_result"
    },
    {
     "data": {
      "image/png": "[encoded data removed]",
      "text/plain": [
       "<Figure size 432x288 with 1 Axes>"
      ]
     },
     "metadata": {
      "needs_background": "light"
     },
     "output_type": "display_data"
    }
   ],
   "source": [
    "plt.figure()\n",
    "plt.plot(y_test,x_test['Stress (N/mm2)'],'bo')\n",
    "plt.plot(y_pred,x_test['Stress (N/mm2)'],'r*')\n",
    "plt.tick_params(axis=\"x\", which=\"both\", bottom=True, top=False, labelbottom=False)\n",
    "plt.legend(['Experimental Data', 'Model Prediction'],loc='best')\n",
    "plt.ylabel(\"Stress Mpa\")\n",
    "plt.xlabel(\"Strain %\")"
   ]
  },
  {
   "cell_type": "code",
   "execution_count": 25,
   "id": "278ea5cb",
   "metadata": {},
   "outputs": [
    {
     "data": {
      "text/plain": [
       "Text(0.5, 0, 'True Strain')"
      ]
     },
     "execution_count": 25,
     "metadata": {},
     "output_type": "execute_result"
    },
    {
     "data": {
      "image/png": "[encoded data removed]",
      "text/plain": [
       "<Figure size 432x288 with 1 Axes>"
      ]
     },
     "metadata": {
      "needs_background": "light"
     },
     "output_type": "display_data"
    }
   ],
   "source": [
    "plt.figure()\n",
    "plt.plot(y_test,y_test,)\n",
    "plt.plot(y_test,y_pred,'r*')\n",
    "plt.tick_params(axis=\"x\", which=\"both\", bottom=True, top=False, labelbottom=True)\n",
    "plt.legend(['True Strain', 'Predicted Strain'],loc='best')\n",
    "plt.ylabel(\"Predicted Strain\")\n",
    "plt.xlabel(\"True Strain\")"
   ]
  },
  {
   "cell_type": "code",
   "execution_count": null,
   "id": "19aa1b8b",
   "metadata": {},
   "outputs": [],
   "source": []
  },
  {
   "cell_type": "markdown",
   "id": "25940c0f",
   "metadata": {},
   "source": [
    "# finding the optimized parameters for the current model"
   ]
  },
  {
   "cell_type": "code",
   "execution_count": 26,
   "id": "7f1c8425",
   "metadata": {},
   "outputs": [],
   "source": [
    "space={'max_depth': hp.quniform(\"max_depth\", 3, 18, 1),\n",
    "        'gamma': hp.uniform ('gamma', 1,9),\n",
    "        'reg_alpha' : hp.quniform('reg_alpha', 40,180,1),\n",
    "        'reg_lambda' : hp.uniform('reg_lambda', 0,1),\n",
    "        'colsample_bytree' : hp.uniform('colsample_bytree', 0.5,1),\n",
    "        'min_child_weight' : hp.quniform('min_child_weight', 0, 10, 1),\n",
    "        'n_estimators': 180,\n",
    "        'seed': 0\n",
    "    }"
   ]
  },
  {
   "cell_type": "code",
   "execution_count": 27,
   "id": "0dc20e5d",
   "metadata": {},
   "outputs": [],
   "source": [
    "def objective(space):\n",
    "    clf=xgb.XGBRegressor(\n",
    "                    n_estimators =space['n_estimators'], max_depth = int(space['max_depth']), gamma = space['gamma'],\n",
    "                    reg_alpha = int(space['reg_alpha']),min_child_weight=int(space['min_child_weight']),\n",
    "                    colsample_bytree=int(space['colsample_bytree']))\n",
    "    \n",
    "    evaluation = [( x_train, y_train), ( x_test, y_test)]\n",
    "    \n",
    "    clf.fit(x_train, y_train,\n",
    "            eval_set=evaluation,\n",
    "            early_stopping_rounds=10,verbose=False)\n",
    "    \n",
    "\n",
    "    pred = clf.predict(x_test)\n",
    "    #accuracy = accuracy_score(y_test, pred>0.5)\n",
    "    #print (\"SCORE:\", accuracy)\n",
    "    return {'loss': clf.score(x_test,y_test), 'status': STATUS_OK }"
   ]
  },
  {
   "cell_type": "code",
   "execution_count": 28,
   "id": "97eebaf7",
   "metadata": {},
   "outputs": [
    {
     "name": "stdout",
     "output_type": "stream",
     "text": [
      "  1%|▍                                               | 1/100 [00:00<00:11,  8.61trial/s, best loss: 0.9378162624493926]"
     ]
    },
    {
     "name": "stderr",
     "output_type": "stream",
     "text": [
      "C:\\Users\\HP\\anaconda3\\lib\\site-packages\\xgboost\\sklearn.py:885: UserWarning: `early_stopping_rounds` in `fit` method is deprecated for better compatibility with scikit-learn, use `early_stopping_rounds` in constructor or`set_params` instead.\n",
      "  warnings.warn(\n",
      "\n",
      "C:\\Users\\HP\\anaconda3\\lib\\site-packages\\xgboost\\sklearn.py:885: UserWarning: `early_stopping_rounds` in `fit` method is deprecated for better compatibility with scikit-learn, use `early_stopping_rounds` in constructor or`set_params` instead.\n",
      "  warnings.warn(\n",
      "\n",
      "C:\\Users\\HP\\anaconda3\\lib\\site-packages\\xgboost\\sklearn.py:885: UserWarning: `early_stopping_rounds` in `fit` method is deprecated for better compatibility with scikit-learn, use `early_stopping_rounds` in constructor or`set_params` instead.\n",
      "  warnings.warn(\n",
      "\n"
     ]
    },
    {
     "name": "stdout",
     "output_type": "stream",
     "text": [
      "  5%|██▍                                             | 5/100 [00:00<00:08, 11.30trial/s, best loss: 0.9376374244641887]"
     ]
    },
    {
     "name": "stderr",
     "output_type": "stream",
     "text": [
      "C:\\Users\\HP\\anaconda3\\lib\\site-packages\\xgboost\\sklearn.py:885: UserWarning: `early_stopping_rounds` in `fit` method is deprecated for better compatibility with scikit-learn, use `early_stopping_rounds` in constructor or`set_params` instead.\n",
      "  warnings.warn(\n",
      "\n",
      "C:\\Users\\HP\\anaconda3\\lib\\site-packages\\xgboost\\sklearn.py:885: UserWarning: `early_stopping_rounds` in `fit` method is deprecated for better compatibility with scikit-learn, use `early_stopping_rounds` in constructor or`set_params` instead.\n",
      "  warnings.warn(\n",
      "\n",
      "C:\\Users\\HP\\anaconda3\\lib\\site-packages\\xgboost\\sklearn.py:885: UserWarning: `early_stopping_rounds` in `fit` method is deprecated for better compatibility with scikit-learn, use `early_stopping_rounds` in constructor or`set_params` instead.\n",
      "  warnings.warn(\n",
      "\n"
     ]
    },
    {
     "name": "stdout",
     "output_type": "stream",
     "text": [
      "\r",
      "  7%|███▎                                            | 7/100 [00:00<00:08, 11.49trial/s, best loss: 0.9376374244641887]"
     ]
    },
    {
     "name": "stderr",
     "output_type": "stream",
     "text": [
      "C:\\Users\\HP\\anaconda3\\lib\\site-packages\\xgboost\\sklearn.py:885: UserWarning: `early_stopping_rounds` in `fit` method is deprecated for better compatibility with scikit-learn, use `early_stopping_rounds` in constructor or`set_params` instead.\n",
      "  warnings.warn(\n",
      "\n",
      "C:\\Users\\HP\\anaconda3\\lib\\site-packages\\xgboost\\sklearn.py:885: UserWarning: `early_stopping_rounds` in `fit` method is deprecated for better compatibility with scikit-learn, use `early_stopping_rounds` in constructor or`set_params` instead.\n",
      "  warnings.warn(\n",
      "\n",
      "C:\\Users\\HP\\anaconda3\\lib\\site-packages\\xgboost\\sklearn.py:885: UserWarning: `early_stopping_rounds` in `fit` method is deprecated for better compatibility with scikit-learn, use `early_stopping_rounds` in constructor or`set_params` instead.\n",
      "  warnings.warn(\n",
      "\n"
     ]
    },
    {
     "name": "stdout",
     "output_type": "stream",
     "text": [
      " 11%|█████▏                                         | 11/100 [00:00<00:07, 11.62trial/s, best loss: 0.9371145294204022]"
     ]
    },
    {
     "name": "stderr",
     "output_type": "stream",
     "text": [
      "C:\\Users\\HP\\anaconda3\\lib\\site-packages\\xgboost\\sklearn.py:885: UserWarning: `early_stopping_rounds` in `fit` method is deprecated for better compatibility with scikit-learn, use `early_stopping_rounds` in constructor or`set_params` instead.\n",
      "  warnings.warn(\n",
      "\n",
      "C:\\Users\\HP\\anaconda3\\lib\\site-packages\\xgboost\\sklearn.py:885: UserWarning: `early_stopping_rounds` in `fit` method is deprecated for better compatibility with scikit-learn, use `early_stopping_rounds` in constructor or`set_params` instead.\n",
      "  warnings.warn(\n",
      "\n",
      "C:\\Users\\HP\\anaconda3\\lib\\site-packages\\xgboost\\sklearn.py:885: UserWarning: `early_stopping_rounds` in `fit` method is deprecated for better compatibility with scikit-learn, use `early_stopping_rounds` in constructor or`set_params` instead.\n",
      "  warnings.warn(\n",
      "\n"
     ]
    },
    {
     "name": "stdout",
     "output_type": "stream",
     "text": [
      "\r",
      " 13%|██████                                         | 13/100 [00:01<00:08, 10.46trial/s, best loss: 0.9371145294204022]"
     ]
    },
    {
     "name": "stderr",
     "output_type": "stream",
     "text": [
      "C:\\Users\\HP\\anaconda3\\lib\\site-packages\\xgboost\\sklearn.py:885: UserWarning: `early_stopping_rounds` in `fit` method is deprecated for better compatibility with scikit-learn, use `early_stopping_rounds` in constructor or`set_params` instead.\n",
      "  warnings.warn(\n",
      "\n",
      "C:\\Users\\HP\\anaconda3\\lib\\site-packages\\xgboost\\sklearn.py:885: UserWarning: `early_stopping_rounds` in `fit` method is deprecated for better compatibility with scikit-learn, use `early_stopping_rounds` in constructor or`set_params` instead.\n",
      "  warnings.warn(\n",
      "\n"
     ]
    },
    {
     "name": "stdout",
     "output_type": "stream",
     "text": [
      "\r",
      " 15%|███████                                        | 15/100 [00:01<00:08, 10.52trial/s, best loss: 0.9371145294204022]"
     ]
    },
    {
     "name": "stderr",
     "output_type": "stream",
     "text": [
      "C:\\Users\\HP\\anaconda3\\lib\\site-packages\\xgboost\\sklearn.py:885: UserWarning: `early_stopping_rounds` in `fit` method is deprecated for better compatibility with scikit-learn, use `early_stopping_rounds` in constructor or`set_params` instead.\n",
      "  warnings.warn(\n",
      "\n",
      "C:\\Users\\HP\\anaconda3\\lib\\site-packages\\xgboost\\sklearn.py:885: UserWarning: `early_stopping_rounds` in `fit` method is deprecated for better compatibility with scikit-learn, use `early_stopping_rounds` in constructor or`set_params` instead.\n",
      "  warnings.warn(\n",
      "\n",
      "C:\\Users\\HP\\anaconda3\\lib\\site-packages\\xgboost\\sklearn.py:885: UserWarning: `early_stopping_rounds` in `fit` method is deprecated for better compatibility with scikit-learn, use `early_stopping_rounds` in constructor or`set_params` instead.\n",
      "  warnings.warn(\n",
      "\n"
     ]
    },
    {
     "name": "stdout",
     "output_type": "stream",
     "text": [
      " 19%|████████▉                                      | 19/100 [00:01<00:07, 10.48trial/s, best loss: 0.9371145294204022]"
     ]
    },
    {
     "name": "stderr",
     "output_type": "stream",
     "text": [
      "C:\\Users\\HP\\anaconda3\\lib\\site-packages\\xgboost\\sklearn.py:885: UserWarning: `early_stopping_rounds` in `fit` method is deprecated for better compatibility with scikit-learn, use `early_stopping_rounds` in constructor or`set_params` instead.\n",
      "  warnings.warn(\n",
      "\n",
      "C:\\Users\\HP\\anaconda3\\lib\\site-packages\\xgboost\\sklearn.py:885: UserWarning: `early_stopping_rounds` in `fit` method is deprecated for better compatibility with scikit-learn, use `early_stopping_rounds` in constructor or`set_params` instead.\n",
      "  warnings.warn(\n",
      "\n",
      "C:\\Users\\HP\\anaconda3\\lib\\site-packages\\xgboost\\sklearn.py:885: UserWarning: `early_stopping_rounds` in `fit` method is deprecated for better compatibility with scikit-learn, use `early_stopping_rounds` in constructor or`set_params` instead.\n",
      "  warnings.warn(\n",
      "\n"
     ]
    },
    {
     "name": "stdout",
     "output_type": "stream",
     "text": [
      "\r",
      " 21%|█████████▊                                     | 21/100 [00:01<00:07, 10.31trial/s, best loss: 0.9354658088814063]"
     ]
    },
    {
     "name": "stderr",
     "output_type": "stream",
     "text": [
      "C:\\Users\\HP\\anaconda3\\lib\\site-packages\\xgboost\\sklearn.py:885: UserWarning: `early_stopping_rounds` in `fit` method is deprecated for better compatibility with scikit-learn, use `early_stopping_rounds` in constructor or`set_params` instead.\n",
      "  warnings.warn(\n",
      "\n",
      "C:\\Users\\HP\\anaconda3\\lib\\site-packages\\xgboost\\sklearn.py:885: UserWarning: `early_stopping_rounds` in `fit` method is deprecated for better compatibility with scikit-learn, use `early_stopping_rounds` in constructor or`set_params` instead.\n",
      "  warnings.warn(\n",
      "\n"
     ]
    },
    {
     "name": "stdout",
     "output_type": "stream",
     "text": [
      "\r",
      " 23%|██████████▊                                    | 23/100 [00:02<00:09,  7.81trial/s, best loss: 0.9300678009439811]"
     ]
    },
    {
     "name": "stderr",
     "output_type": "stream",
     "text": [
      "C:\\Users\\HP\\anaconda3\\lib\\site-packages\\xgboost\\sklearn.py:885: UserWarning: `early_stopping_rounds` in `fit` method is deprecated for better compatibility with scikit-learn, use `early_stopping_rounds` in constructor or`set_params` instead.\n",
      "  warnings.warn(\n",
      "\n"
     ]
    },
    {
     "name": "stdout",
     "output_type": "stream",
     "text": [
      "\r",
      " 24%|███████████▎                                   | 24/100 [00:02<00:11,  6.43trial/s, best loss: 0.9300678009439811]"
     ]
    },
    {
     "name": "stderr",
     "output_type": "stream",
     "text": [
      "C:\\Users\\HP\\anaconda3\\lib\\site-packages\\xgboost\\sklearn.py:885: UserWarning: `early_stopping_rounds` in `fit` method is deprecated for better compatibility with scikit-learn, use `early_stopping_rounds` in constructor or`set_params` instead.\n",
      "  warnings.warn(\n",
      "\n"
     ]
    },
    {
     "name": "stdout",
     "output_type": "stream",
     "text": [
      "\r",
      " 25%|███████████▊                                   | 25/100 [00:02<00:13,  5.71trial/s, best loss: 0.9300678009439811]"
     ]
    },
    {
     "name": "stderr",
     "output_type": "stream",
     "text": [
      "C:\\Users\\HP\\anaconda3\\lib\\site-packages\\xgboost\\sklearn.py:885: UserWarning: `early_stopping_rounds` in `fit` method is deprecated for better compatibility with scikit-learn, use `early_stopping_rounds` in constructor or`set_params` instead.\n",
      "  warnings.warn(\n",
      "\n"
     ]
    },
    {
     "name": "stdout",
     "output_type": "stream",
     "text": [
      "\r",
      " 26%|████████████▏                                  | 26/100 [00:03<00:14,  4.98trial/s, best loss: 0.9300678009439811]"
     ]
    },
    {
     "name": "stderr",
     "output_type": "stream",
     "text": [
      "C:\\Users\\HP\\anaconda3\\lib\\site-packages\\xgboost\\sklearn.py:885: UserWarning: `early_stopping_rounds` in `fit` method is deprecated for better compatibility with scikit-learn, use `early_stopping_rounds` in constructor or`set_params` instead.\n",
      "  warnings.warn(\n",
      "\n"
     ]
    },
    {
     "name": "stdout",
     "output_type": "stream",
     "text": [
      "\r",
      " 27%|████████████▋                                  | 27/100 [00:03<00:16,  4.51trial/s, best loss: 0.9300588351824621]"
     ]
    },
    {
     "name": "stderr",
     "output_type": "stream",
     "text": [
      "C:\\Users\\HP\\anaconda3\\lib\\site-packages\\xgboost\\sklearn.py:885: UserWarning: `early_stopping_rounds` in `fit` method is deprecated for better compatibility with scikit-learn, use `early_stopping_rounds` in constructor or`set_params` instead.\n",
      "  warnings.warn(\n",
      "\n"
     ]
    },
    {
     "name": "stdout",
     "output_type": "stream",
     "text": [
      "\r",
      " 28%|█████████████▏                                 | 28/100 [00:03<00:15,  4.56trial/s, best loss: 0.9300588351824621]"
     ]
    },
    {
     "name": "stderr",
     "output_type": "stream",
     "text": [
      "C:\\Users\\HP\\anaconda3\\lib\\site-packages\\xgboost\\sklearn.py:885: UserWarning: `early_stopping_rounds` in `fit` method is deprecated for better compatibility with scikit-learn, use `early_stopping_rounds` in constructor or`set_params` instead.\n",
      "  warnings.warn(\n",
      "\n",
      "C:\\Users\\HP\\anaconda3\\lib\\site-packages\\xgboost\\sklearn.py:885: UserWarning: `early_stopping_rounds` in `fit` method is deprecated for better compatibility with scikit-learn, use `early_stopping_rounds` in constructor or`set_params` instead.\n",
      "  warnings.warn(\n",
      "\n"
     ]
    },
    {
     "name": "stdout",
     "output_type": "stream",
     "text": [
      " 31%|██████████████▌                                | 31/100 [00:04<00:11,  6.03trial/s, best loss: 0.9300588351824621]"
     ]
    },
    {
     "name": "stderr",
     "output_type": "stream",
     "text": [
      "C:\\Users\\HP\\anaconda3\\lib\\site-packages\\xgboost\\sklearn.py:885: UserWarning: `early_stopping_rounds` in `fit` method is deprecated for better compatibility with scikit-learn, use `early_stopping_rounds` in constructor or`set_params` instead.\n",
      "  warnings.warn(\n",
      "\n",
      "C:\\Users\\HP\\anaconda3\\lib\\site-packages\\xgboost\\sklearn.py:885: UserWarning: `early_stopping_rounds` in `fit` method is deprecated for better compatibility with scikit-learn, use `early_stopping_rounds` in constructor or`set_params` instead.\n",
      "  warnings.warn(\n",
      "\n"
     ]
    },
    {
     "name": "stdout",
     "output_type": "stream",
     "text": [
      " 33%|███████████████▌                               | 33/100 [00:04<00:09,  7.01trial/s, best loss: 0.9300588351824621]"
     ]
    },
    {
     "name": "stderr",
     "output_type": "stream",
     "text": [
      "C:\\Users\\HP\\anaconda3\\lib\\site-packages\\xgboost\\sklearn.py:885: UserWarning: `early_stopping_rounds` in `fit` method is deprecated for better compatibility with scikit-learn, use `early_stopping_rounds` in constructor or`set_params` instead.\n",
      "  warnings.warn(\n",
      "\n",
      "C:\\Users\\HP\\anaconda3\\lib\\site-packages\\xgboost\\sklearn.py:885: UserWarning: `early_stopping_rounds` in `fit` method is deprecated for better compatibility with scikit-learn, use `early_stopping_rounds` in constructor or`set_params` instead.\n",
      "  warnings.warn(\n",
      "\n"
     ]
    },
    {
     "name": "stdout",
     "output_type": "stream",
     "text": [
      " 35%|████████████████▍                              | 35/100 [00:04<00:08,  7.47trial/s, best loss: 0.9300588351824621]"
     ]
    },
    {
     "name": "stderr",
     "output_type": "stream",
     "text": [
      "C:\\Users\\HP\\anaconda3\\lib\\site-packages\\xgboost\\sklearn.py:885: UserWarning: `early_stopping_rounds` in `fit` method is deprecated for better compatibility with scikit-learn, use `early_stopping_rounds` in constructor or`set_params` instead.\n",
      "  warnings.warn(\n",
      "\n",
      "C:\\Users\\HP\\anaconda3\\lib\\site-packages\\xgboost\\sklearn.py:885: UserWarning: `early_stopping_rounds` in `fit` method is deprecated for better compatibility with scikit-learn, use `early_stopping_rounds` in constructor or`set_params` instead.\n",
      "  warnings.warn(\n",
      "\n"
     ]
    },
    {
     "name": "stdout",
     "output_type": "stream",
     "text": [
      " 37%|█████████████████▍                             | 37/100 [00:04<00:08,  7.46trial/s, best loss: 0.9300588351824621]"
     ]
    },
    {
     "name": "stderr",
     "output_type": "stream",
     "text": [
      "C:\\Users\\HP\\anaconda3\\lib\\site-packages\\xgboost\\sklearn.py:885: UserWarning: `early_stopping_rounds` in `fit` method is deprecated for better compatibility with scikit-learn, use `early_stopping_rounds` in constructor or`set_params` instead.\n",
      "  warnings.warn(\n",
      "\n",
      "C:\\Users\\HP\\anaconda3\\lib\\site-packages\\xgboost\\sklearn.py:885: UserWarning: `early_stopping_rounds` in `fit` method is deprecated for better compatibility with scikit-learn, use `early_stopping_rounds` in constructor or`set_params` instead.\n",
      "  warnings.warn(\n",
      "\n"
     ]
    },
    {
     "name": "stdout",
     "output_type": "stream",
     "text": [
      "\r",
      " 38%|█████████████████▊                             | 38/100 [00:04<00:08,  7.66trial/s, best loss: 0.9300588351824621]"
     ]
    },
    {
     "name": "stderr",
     "output_type": "stream",
     "text": [
      "C:\\Users\\HP\\anaconda3\\lib\\site-packages\\xgboost\\sklearn.py:885: UserWarning: `early_stopping_rounds` in `fit` method is deprecated for better compatibility with scikit-learn, use `early_stopping_rounds` in constructor or`set_params` instead.\n",
      "  warnings.warn(\n",
      "\n",
      "C:\\Users\\HP\\anaconda3\\lib\\site-packages\\xgboost\\sklearn.py:885: UserWarning: `early_stopping_rounds` in `fit` method is deprecated for better compatibility with scikit-learn, use `early_stopping_rounds` in constructor or`set_params` instead.\n",
      "  warnings.warn(\n",
      "\n"
     ]
    },
    {
     "name": "stdout",
     "output_type": "stream",
     "text": [
      "\r",
      " 39%|██████████████████▎                            | 39/100 [00:05<00:09,  6.18trial/s, best loss: 0.9300588351824621]"
     ]
    },
    {
     "name": "stderr",
     "output_type": "stream",
     "text": [
      "C:\\Users\\HP\\anaconda3\\lib\\site-packages\\xgboost\\sklearn.py:885: UserWarning: `early_stopping_rounds` in `fit` method is deprecated for better compatibility with scikit-learn, use `early_stopping_rounds` in constructor or`set_params` instead.\n",
      "  warnings.warn(\n",
      "\n"
     ]
    },
    {
     "name": "stdout",
     "output_type": "stream",
     "text": [
      " 41%|███████████████████▎                           | 41/100 [00:05<00:13,  4.24trial/s, best loss: 0.9300588351824621]"
     ]
    },
    {
     "name": "stderr",
     "output_type": "stream",
     "text": [
      "C:\\Users\\HP\\anaconda3\\lib\\site-packages\\xgboost\\sklearn.py:885: UserWarning: `early_stopping_rounds` in `fit` method is deprecated for better compatibility with scikit-learn, use `early_stopping_rounds` in constructor or`set_params` instead.\n",
      "  warnings.warn(\n",
      "\n"
     ]
    },
    {
     "name": "stdout",
     "output_type": "stream",
     "text": [
      "\r",
      " 42%|███████████████████▋                           | 42/100 [00:06<00:14,  4.13trial/s, best loss: 0.9300588351824621]"
     ]
    },
    {
     "name": "stderr",
     "output_type": "stream",
     "text": [
      "C:\\Users\\HP\\anaconda3\\lib\\site-packages\\xgboost\\sklearn.py:885: UserWarning: `early_stopping_rounds` in `fit` method is deprecated for better compatibility with scikit-learn, use `early_stopping_rounds` in constructor or`set_params` instead.\n",
      "  warnings.warn(\n",
      "\n"
     ]
    },
    {
     "name": "stdout",
     "output_type": "stream",
     "text": [
      "\r",
      " 43%|████████████████████▏                          | 43/100 [00:06<00:13,  4.14trial/s, best loss: 0.9300588351824621]"
     ]
    },
    {
     "name": "stderr",
     "output_type": "stream",
     "text": [
      "C:\\Users\\HP\\anaconda3\\lib\\site-packages\\xgboost\\sklearn.py:885: UserWarning: `early_stopping_rounds` in `fit` method is deprecated for better compatibility with scikit-learn, use `early_stopping_rounds` in constructor or`set_params` instead.\n",
      "  warnings.warn(\n",
      "\n"
     ]
    },
    {
     "name": "stdout",
     "output_type": "stream",
     "text": [
      "\r",
      " 44%|████████████████████▋                          | 44/100 [00:06<00:13,  4.11trial/s, best loss: 0.9300588351824621]"
     ]
    },
    {
     "name": "stderr",
     "output_type": "stream",
     "text": [
      "C:\\Users\\HP\\anaconda3\\lib\\site-packages\\xgboost\\sklearn.py:885: UserWarning: `early_stopping_rounds` in `fit` method is deprecated for better compatibility with scikit-learn, use `early_stopping_rounds` in constructor or`set_params` instead.\n",
      "  warnings.warn(\n",
      "\n"
     ]
    },
    {
     "name": "stdout",
     "output_type": "stream",
     "text": [
      " 46%|█████████████████████▌                         | 46/100 [00:06<00:09,  5.43trial/s, best loss: 0.9300588351824621]"
     ]
    },
    {
     "name": "stderr",
     "output_type": "stream",
     "text": [
      "C:\\Users\\HP\\anaconda3\\lib\\site-packages\\xgboost\\sklearn.py:885: UserWarning: `early_stopping_rounds` in `fit` method is deprecated for better compatibility with scikit-learn, use `early_stopping_rounds` in constructor or`set_params` instead.\n",
      "  warnings.warn(\n",
      "\n",
      "C:\\Users\\HP\\anaconda3\\lib\\site-packages\\xgboost\\sklearn.py:885: UserWarning: `early_stopping_rounds` in `fit` method is deprecated for better compatibility with scikit-learn, use `early_stopping_rounds` in constructor or`set_params` instead.\n",
      "  warnings.warn(\n",
      "\n"
     ]
    },
    {
     "name": "stdout",
     "output_type": "stream",
     "text": [
      "\r",
      " 47%|██████████████████████                         | 47/100 [00:06<00:08,  5.96trial/s, best loss: 0.9300588351824621]"
     ]
    },
    {
     "name": "stderr",
     "output_type": "stream",
     "text": [
      "C:\\Users\\HP\\anaconda3\\lib\\site-packages\\xgboost\\sklearn.py:885: UserWarning: `early_stopping_rounds` in `fit` method is deprecated for better compatibility with scikit-learn, use `early_stopping_rounds` in constructor or`set_params` instead.\n",
      "  warnings.warn(\n",
      "\n",
      "C:\\Users\\HP\\anaconda3\\lib\\site-packages\\xgboost\\sklearn.py:885: UserWarning: `early_stopping_rounds` in `fit` method is deprecated for better compatibility with scikit-learn, use `early_stopping_rounds` in constructor or`set_params` instead.\n",
      "  warnings.warn(\n",
      "\n"
     ]
    },
    {
     "name": "stdout",
     "output_type": "stream",
     "text": [
      " 50%|███████████████████████▌                       | 50/100 [00:07<00:06,  7.29trial/s, best loss: 0.9300588351824621]"
     ]
    },
    {
     "name": "stderr",
     "output_type": "stream",
     "text": [
      "C:\\Users\\HP\\anaconda3\\lib\\site-packages\\xgboost\\sklearn.py:885: UserWarning: `early_stopping_rounds` in `fit` method is deprecated for better compatibility with scikit-learn, use `early_stopping_rounds` in constructor or`set_params` instead.\n",
      "  warnings.warn(\n",
      "\n",
      "C:\\Users\\HP\\anaconda3\\lib\\site-packages\\xgboost\\sklearn.py:885: UserWarning: `early_stopping_rounds` in `fit` method is deprecated for better compatibility with scikit-learn, use `early_stopping_rounds` in constructor or`set_params` instead.\n",
      "  warnings.warn(\n",
      "\n"
     ]
    },
    {
     "name": "stdout",
     "output_type": "stream",
     "text": [
      " 52%|████████████████████████▍                      | 52/100 [00:07<00:06,  7.47trial/s, best loss: 0.9300588351824621]"
     ]
    },
    {
     "name": "stderr",
     "output_type": "stream",
     "text": [
      "C:\\Users\\HP\\anaconda3\\lib\\site-packages\\xgboost\\sklearn.py:885: UserWarning: `early_stopping_rounds` in `fit` method is deprecated for better compatibility with scikit-learn, use `early_stopping_rounds` in constructor or`set_params` instead.\n",
      "  warnings.warn(\n",
      "\n",
      "C:\\Users\\HP\\anaconda3\\lib\\site-packages\\xgboost\\sklearn.py:885: UserWarning: `early_stopping_rounds` in `fit` method is deprecated for better compatibility with scikit-learn, use `early_stopping_rounds` in constructor or`set_params` instead.\n",
      "  warnings.warn(\n",
      "\n"
     ]
    },
    {
     "name": "stdout",
     "output_type": "stream",
     "text": [
      " 54%|█████████████████████████▍                     | 54/100 [00:07<00:05,  7.94trial/s, best loss: 0.9300588351824621]"
     ]
    },
    {
     "name": "stderr",
     "output_type": "stream",
     "text": [
      "C:\\Users\\HP\\anaconda3\\lib\\site-packages\\xgboost\\sklearn.py:885: UserWarning: `early_stopping_rounds` in `fit` method is deprecated for better compatibility with scikit-learn, use `early_stopping_rounds` in constructor or`set_params` instead.\n",
      "  warnings.warn(\n",
      "\n",
      "C:\\Users\\HP\\anaconda3\\lib\\site-packages\\xgboost\\sklearn.py:885: UserWarning: `early_stopping_rounds` in `fit` method is deprecated for better compatibility with scikit-learn, use `early_stopping_rounds` in constructor or`set_params` instead.\n",
      "  warnings.warn(\n",
      "\n"
     ]
    },
    {
     "name": "stdout",
     "output_type": "stream",
     "text": [
      "\r",
      " 55%|█████████████████████████▊                     | 55/100 [00:08<00:06,  6.95trial/s, best loss: 0.9300588351824621]"
     ]
    },
    {
     "name": "stderr",
     "output_type": "stream",
     "text": [
      "C:\\Users\\HP\\anaconda3\\lib\\site-packages\\xgboost\\sklearn.py:885: UserWarning: `early_stopping_rounds` in `fit` method is deprecated for better compatibility with scikit-learn, use `early_stopping_rounds` in constructor or`set_params` instead.\n",
      "  warnings.warn(\n",
      "\n"
     ]
    },
    {
     "name": "stdout",
     "output_type": "stream",
     "text": [
      "\r",
      " 56%|██████████████████████████▎                    | 56/100 [00:08<00:07,  5.59trial/s, best loss: 0.9300588351824621]"
     ]
    },
    {
     "name": "stderr",
     "output_type": "stream",
     "text": [
      "C:\\Users\\HP\\anaconda3\\lib\\site-packages\\xgboost\\sklearn.py:885: UserWarning: `early_stopping_rounds` in `fit` method is deprecated for better compatibility with scikit-learn, use `early_stopping_rounds` in constructor or`set_params` instead.\n",
      "  warnings.warn(\n",
      "\n"
     ]
    },
    {
     "name": "stdout",
     "output_type": "stream",
     "text": [
      "\r",
      " 57%|██████████████████████████▊                    | 57/100 [00:08<00:08,  5.03trial/s, best loss: 0.9300588351824621]"
     ]
    },
    {
     "name": "stderr",
     "output_type": "stream",
     "text": [
      "C:\\Users\\HP\\anaconda3\\lib\\site-packages\\xgboost\\sklearn.py:885: UserWarning: `early_stopping_rounds` in `fit` method is deprecated for better compatibility with scikit-learn, use `early_stopping_rounds` in constructor or`set_params` instead.\n",
      "  warnings.warn(\n",
      "\n"
     ]
    },
    {
     "name": "stdout",
     "output_type": "stream",
     "text": [
      "\r",
      " 58%|███████████████████████████▎                   | 58/100 [00:08<00:09,  4.61trial/s, best loss: 0.9300588351824621]"
     ]
    },
    {
     "name": "stderr",
     "output_type": "stream",
     "text": [
      "C:\\Users\\HP\\anaconda3\\lib\\site-packages\\xgboost\\sklearn.py:885: UserWarning: `early_stopping_rounds` in `fit` method is deprecated for better compatibility with scikit-learn, use `early_stopping_rounds` in constructor or`set_params` instead.\n",
      "  warnings.warn(\n",
      "\n"
     ]
    },
    {
     "name": "stdout",
     "output_type": "stream",
     "text": [
      "\r",
      " 59%|███████████████████████████▋                   | 59/100 [00:09<00:09,  4.35trial/s, best loss: 0.9300588351824621]"
     ]
    },
    {
     "name": "stderr",
     "output_type": "stream",
     "text": [
      "C:\\Users\\HP\\anaconda3\\lib\\site-packages\\xgboost\\sklearn.py:885: UserWarning: `early_stopping_rounds` in `fit` method is deprecated for better compatibility with scikit-learn, use `early_stopping_rounds` in constructor or`set_params` instead.\n",
      "  warnings.warn(\n",
      "\n"
     ]
    },
    {
     "name": "stdout",
     "output_type": "stream",
     "text": [
      "\r",
      " 60%|████████████████████████████▏                  | 60/100 [00:09<00:09,  4.27trial/s, best loss: 0.9300588351824621]"
     ]
    },
    {
     "name": "stderr",
     "output_type": "stream",
     "text": [
      "C:\\Users\\HP\\anaconda3\\lib\\site-packages\\xgboost\\sklearn.py:885: UserWarning: `early_stopping_rounds` in `fit` method is deprecated for better compatibility with scikit-learn, use `early_stopping_rounds` in constructor or`set_params` instead.\n",
      "  warnings.warn(\n",
      "\n"
     ]
    },
    {
     "name": "stdout",
     "output_type": "stream",
     "text": [
      "\r",
      " 61%|████████████████████████████▋                  | 61/100 [00:09<00:09,  4.26trial/s, best loss: 0.9300554474128218]"
     ]
    },
    {
     "name": "stderr",
     "output_type": "stream",
     "text": [
      "C:\\Users\\HP\\anaconda3\\lib\\site-packages\\xgboost\\sklearn.py:885: UserWarning: `early_stopping_rounds` in `fit` method is deprecated for better compatibility with scikit-learn, use `early_stopping_rounds` in constructor or`set_params` instead.\n",
      "  warnings.warn(\n",
      "\n",
      "C:\\Users\\HP\\anaconda3\\lib\\site-packages\\xgboost\\sklearn.py:885: UserWarning: `early_stopping_rounds` in `fit` method is deprecated for better compatibility with scikit-learn, use `early_stopping_rounds` in constructor or`set_params` instead.\n",
      "  warnings.warn(\n",
      "\n"
     ]
    },
    {
     "name": "stdout",
     "output_type": "stream",
     "text": [
      " 63%|█████████████████████████████▌                 | 63/100 [00:09<00:06,  5.39trial/s, best loss: 0.9300554474128218]"
     ]
    },
    {
     "name": "stderr",
     "output_type": "stream",
     "text": [
      "C:\\Users\\HP\\anaconda3\\lib\\site-packages\\xgboost\\sklearn.py:885: UserWarning: `early_stopping_rounds` in `fit` method is deprecated for better compatibility with scikit-learn, use `early_stopping_rounds` in constructor or`set_params` instead.\n",
      "  warnings.warn(\n",
      "\n",
      "C:\\Users\\HP\\anaconda3\\lib\\site-packages\\xgboost\\sklearn.py:885: UserWarning: `early_stopping_rounds` in `fit` method is deprecated for better compatibility with scikit-learn, use `early_stopping_rounds` in constructor or`set_params` instead.\n",
      "  warnings.warn(\n",
      "\n"
     ]
    },
    {
     "name": "stdout",
     "output_type": "stream",
     "text": [
      " 66%|███████████████████████████████                | 66/100 [00:10<00:04,  6.91trial/s, best loss: 0.9300554474128218]"
     ]
    },
    {
     "name": "stderr",
     "output_type": "stream",
     "text": [
      "C:\\Users\\HP\\anaconda3\\lib\\site-packages\\xgboost\\sklearn.py:885: UserWarning: `early_stopping_rounds` in `fit` method is deprecated for better compatibility with scikit-learn, use `early_stopping_rounds` in constructor or`set_params` instead.\n",
      "  warnings.warn(\n",
      "\n",
      "C:\\Users\\HP\\anaconda3\\lib\\site-packages\\xgboost\\sklearn.py:885: UserWarning: `early_stopping_rounds` in `fit` method is deprecated for better compatibility with scikit-learn, use `early_stopping_rounds` in constructor or`set_params` instead.\n",
      "  warnings.warn(\n",
      "\n"
     ]
    },
    {
     "name": "stdout",
     "output_type": "stream",
     "text": [
      " 68%|███████████████████████████████▉               | 68/100 [00:10<00:04,  7.43trial/s, best loss: 0.9300554474128218]"
     ]
    },
    {
     "name": "stderr",
     "output_type": "stream",
     "text": [
      "C:\\Users\\HP\\anaconda3\\lib\\site-packages\\xgboost\\sklearn.py:885: UserWarning: `early_stopping_rounds` in `fit` method is deprecated for better compatibility with scikit-learn, use `early_stopping_rounds` in constructor or`set_params` instead.\n",
      "  warnings.warn(\n",
      "\n",
      "C:\\Users\\HP\\anaconda3\\lib\\site-packages\\xgboost\\sklearn.py:885: UserWarning: `early_stopping_rounds` in `fit` method is deprecated for better compatibility with scikit-learn, use `early_stopping_rounds` in constructor or`set_params` instead.\n",
      "  warnings.warn(\n",
      "\n"
     ]
    },
    {
     "name": "stdout",
     "output_type": "stream",
     "text": [
      " 70%|████████████████████████████████▉              | 70/100 [00:10<00:03,  7.88trial/s, best loss: 0.9300554474128218]"
     ]
    },
    {
     "name": "stderr",
     "output_type": "stream",
     "text": [
      "C:\\Users\\HP\\anaconda3\\lib\\site-packages\\xgboost\\sklearn.py:885: UserWarning: `early_stopping_rounds` in `fit` method is deprecated for better compatibility with scikit-learn, use `early_stopping_rounds` in constructor or`set_params` instead.\n",
      "  warnings.warn(\n",
      "\n",
      "C:\\Users\\HP\\anaconda3\\lib\\site-packages\\xgboost\\sklearn.py:885: UserWarning: `early_stopping_rounds` in `fit` method is deprecated for better compatibility with scikit-learn, use `early_stopping_rounds` in constructor or`set_params` instead.\n",
      "  warnings.warn(\n",
      "\n"
     ]
    },
    {
     "name": "stdout",
     "output_type": "stream",
     "text": [
      " 72%|█████████████████████████████████▊             | 72/100 [00:10<00:03,  7.87trial/s, best loss: 0.9300554474128218]"
     ]
    },
    {
     "name": "stderr",
     "output_type": "stream",
     "text": [
      "C:\\Users\\HP\\anaconda3\\lib\\site-packages\\xgboost\\sklearn.py:885: UserWarning: `early_stopping_rounds` in `fit` method is deprecated for better compatibility with scikit-learn, use `early_stopping_rounds` in constructor or`set_params` instead.\n",
      "  warnings.warn(\n",
      "\n",
      "C:\\Users\\HP\\anaconda3\\lib\\site-packages\\xgboost\\sklearn.py:885: UserWarning: `early_stopping_rounds` in `fit` method is deprecated for better compatibility with scikit-learn, use `early_stopping_rounds` in constructor or`set_params` instead.\n",
      "  warnings.warn(\n",
      "\n"
     ]
    },
    {
     "name": "stdout",
     "output_type": "stream",
     "text": [
      "\r",
      " 73%|██████████████████████████████████▎            | 73/100 [00:11<00:03,  7.60trial/s, best loss: 0.9300554474128218]"
     ]
    },
    {
     "name": "stderr",
     "output_type": "stream",
     "text": [
      "C:\\Users\\HP\\anaconda3\\lib\\site-packages\\xgboost\\sklearn.py:885: UserWarning: `early_stopping_rounds` in `fit` method is deprecated for better compatibility with scikit-learn, use `early_stopping_rounds` in constructor or`set_params` instead.\n",
      "  warnings.warn(\n",
      "\n",
      "C:\\Users\\HP\\anaconda3\\lib\\site-packages\\xgboost\\sklearn.py:885: UserWarning: `early_stopping_rounds` in `fit` method is deprecated for better compatibility with scikit-learn, use `early_stopping_rounds` in constructor or`set_params` instead.\n",
      "  warnings.warn(\n",
      "\n"
     ]
    },
    {
     "name": "stdout",
     "output_type": "stream",
     "text": [
      " 75%|███████████████████████████████████▎           | 75/100 [00:11<00:04,  5.12trial/s, best loss: 0.9300554474128218]"
     ]
    },
    {
     "name": "stderr",
     "output_type": "stream",
     "text": [
      "C:\\Users\\HP\\anaconda3\\lib\\site-packages\\xgboost\\sklearn.py:885: UserWarning: `early_stopping_rounds` in `fit` method is deprecated for better compatibility with scikit-learn, use `early_stopping_rounds` in constructor or`set_params` instead.\n",
      "  warnings.warn(\n",
      "\n"
     ]
    },
    {
     "name": "stdout",
     "output_type": "stream",
     "text": [
      "\r",
      " 76%|███████████████████████████████████▋           | 76/100 [00:11<00:05,  4.75trial/s, best loss: 0.9300476086755514]"
     ]
    },
    {
     "name": "stderr",
     "output_type": "stream",
     "text": [
      "C:\\Users\\HP\\anaconda3\\lib\\site-packages\\xgboost\\sklearn.py:885: UserWarning: `early_stopping_rounds` in `fit` method is deprecated for better compatibility with scikit-learn, use `early_stopping_rounds` in constructor or`set_params` instead.\n",
      "  warnings.warn(\n",
      "\n"
     ]
    },
    {
     "name": "stdout",
     "output_type": "stream",
     "text": [
      "\r",
      " 77%|████████████████████████████████████▏          | 77/100 [00:12<00:05,  4.50trial/s, best loss: 0.9300476086755514]"
     ]
    },
    {
     "name": "stderr",
     "output_type": "stream",
     "text": [
      "C:\\Users\\HP\\anaconda3\\lib\\site-packages\\xgboost\\sklearn.py:885: UserWarning: `early_stopping_rounds` in `fit` method is deprecated for better compatibility with scikit-learn, use `early_stopping_rounds` in constructor or`set_params` instead.\n",
      "  warnings.warn(\n",
      "\n"
     ]
    },
    {
     "name": "stdout",
     "output_type": "stream",
     "text": [
      "\r",
      " 78%|████████████████████████████████████▋          | 78/100 [00:12<00:05,  4.28trial/s, best loss: 0.9300476086755514]"
     ]
    },
    {
     "name": "stderr",
     "output_type": "stream",
     "text": [
      "C:\\Users\\HP\\anaconda3\\lib\\site-packages\\xgboost\\sklearn.py:885: UserWarning: `early_stopping_rounds` in `fit` method is deprecated for better compatibility with scikit-learn, use `early_stopping_rounds` in constructor or`set_params` instead.\n",
      "  warnings.warn(\n",
      "\n"
     ]
    },
    {
     "name": "stdout",
     "output_type": "stream",
     "text": [
      "\r",
      " 79%|█████████████████████████████████████▏         | 79/100 [00:12<00:05,  4.07trial/s, best loss: 0.9300476086755514]"
     ]
    },
    {
     "name": "stderr",
     "output_type": "stream",
     "text": [
      "C:\\Users\\HP\\anaconda3\\lib\\site-packages\\xgboost\\sklearn.py:885: UserWarning: `early_stopping_rounds` in `fit` method is deprecated for better compatibility with scikit-learn, use `early_stopping_rounds` in constructor or`set_params` instead.\n",
      "  warnings.warn(\n",
      "\n"
     ]
    },
    {
     "name": "stdout",
     "output_type": "stream",
     "text": [
      " 81%|██████████████████████████████████████         | 81/100 [00:12<00:03,  5.30trial/s, best loss: 0.9300476086755514]"
     ]
    },
    {
     "name": "stderr",
     "output_type": "stream",
     "text": [
      "C:\\Users\\HP\\anaconda3\\lib\\site-packages\\xgboost\\sklearn.py:885: UserWarning: `early_stopping_rounds` in `fit` method is deprecated for better compatibility with scikit-learn, use `early_stopping_rounds` in constructor or`set_params` instead.\n",
      "  warnings.warn(\n",
      "\n",
      "C:\\Users\\HP\\anaconda3\\lib\\site-packages\\xgboost\\sklearn.py:885: UserWarning: `early_stopping_rounds` in `fit` method is deprecated for better compatibility with scikit-learn, use `early_stopping_rounds` in constructor or`set_params` instead.\n",
      "  warnings.warn(\n",
      "\n"
     ]
    },
    {
     "name": "stdout",
     "output_type": "stream",
     "text": [
      " 83%|███████████████████████████████████████        | 83/100 [00:13<00:02,  6.15trial/s, best loss: 0.9300476086755514]"
     ]
    },
    {
     "name": "stderr",
     "output_type": "stream",
     "text": [
      "C:\\Users\\HP\\anaconda3\\lib\\site-packages\\xgboost\\sklearn.py:885: UserWarning: `early_stopping_rounds` in `fit` method is deprecated for better compatibility with scikit-learn, use `early_stopping_rounds` in constructor or`set_params` instead.\n",
      "  warnings.warn(\n",
      "\n",
      "C:\\Users\\HP\\anaconda3\\lib\\site-packages\\xgboost\\sklearn.py:885: UserWarning: `early_stopping_rounds` in `fit` method is deprecated for better compatibility with scikit-learn, use `early_stopping_rounds` in constructor or`set_params` instead.\n",
      "  warnings.warn(\n",
      "\n"
     ]
    },
    {
     "name": "stdout",
     "output_type": "stream",
     "text": [
      "\r",
      " 84%|███████████████████████████████████████▍       | 84/100 [00:13<00:02,  6.67trial/s, best loss: 0.9300476086755514]"
     ]
    },
    {
     "name": "stderr",
     "output_type": "stream",
     "text": [
      "C:\\Users\\HP\\anaconda3\\lib\\site-packages\\xgboost\\sklearn.py:885: UserWarning: `early_stopping_rounds` in `fit` method is deprecated for better compatibility with scikit-learn, use `early_stopping_rounds` in constructor or`set_params` instead.\n",
      "  warnings.warn(\n",
      "\n",
      "C:\\Users\\HP\\anaconda3\\lib\\site-packages\\xgboost\\sklearn.py:885: UserWarning: `early_stopping_rounds` in `fit` method is deprecated for better compatibility with scikit-learn, use `early_stopping_rounds` in constructor or`set_params` instead.\n",
      "  warnings.warn(\n",
      "\n"
     ]
    },
    {
     "name": "stdout",
     "output_type": "stream",
     "text": [
      " 86%|████████████████████████████████████████▍      | 86/100 [00:13<00:02,  7.00trial/s, best loss: 0.9300476086755514]"
     ]
    },
    {
     "name": "stderr",
     "output_type": "stream",
     "text": [
      "C:\\Users\\HP\\anaconda3\\lib\\site-packages\\xgboost\\sklearn.py:885: UserWarning: `early_stopping_rounds` in `fit` method is deprecated for better compatibility with scikit-learn, use `early_stopping_rounds` in constructor or`set_params` instead.\n",
      "  warnings.warn(\n",
      "\n",
      "C:\\Users\\HP\\anaconda3\\lib\\site-packages\\xgboost\\sklearn.py:885: UserWarning: `early_stopping_rounds` in `fit` method is deprecated for better compatibility with scikit-learn, use `early_stopping_rounds` in constructor or`set_params` instead.\n",
      "  warnings.warn(\n",
      "\n"
     ]
    },
    {
     "name": "stdout",
     "output_type": "stream",
     "text": [
      " 88%|█████████████████████████████████████████▎     | 88/100 [00:13<00:01,  7.09trial/s, best loss: 0.9300476086755514]"
     ]
    },
    {
     "name": "stderr",
     "output_type": "stream",
     "text": [
      "C:\\Users\\HP\\anaconda3\\lib\\site-packages\\xgboost\\sklearn.py:885: UserWarning: `early_stopping_rounds` in `fit` method is deprecated for better compatibility with scikit-learn, use `early_stopping_rounds` in constructor or`set_params` instead.\n",
      "  warnings.warn(\n",
      "\n",
      "C:\\Users\\HP\\anaconda3\\lib\\site-packages\\xgboost\\sklearn.py:885: UserWarning: `early_stopping_rounds` in `fit` method is deprecated for better compatibility with scikit-learn, use `early_stopping_rounds` in constructor or`set_params` instead.\n",
      "  warnings.warn(\n",
      "\n"
     ]
    },
    {
     "name": "stdout",
     "output_type": "stream",
     "text": [
      " 90%|██████████████████████████████████████████▎    | 90/100 [00:14<00:01,  5.77trial/s, best loss: 0.9300476086755514]"
     ]
    },
    {
     "name": "stderr",
     "output_type": "stream",
     "text": [
      "C:\\Users\\HP\\anaconda3\\lib\\site-packages\\xgboost\\sklearn.py:885: UserWarning: `early_stopping_rounds` in `fit` method is deprecated for better compatibility with scikit-learn, use `early_stopping_rounds` in constructor or`set_params` instead.\n",
      "  warnings.warn(\n",
      "\n"
     ]
    },
    {
     "name": "stdout",
     "output_type": "stream",
     "text": [
      "\r",
      " 91%|██████████████████████████████████████████▊    | 91/100 [00:14<00:01,  5.04trial/s, best loss: 0.9300476086755514]"
     ]
    },
    {
     "name": "stderr",
     "output_type": "stream",
     "text": [
      "C:\\Users\\HP\\anaconda3\\lib\\site-packages\\xgboost\\sklearn.py:885: UserWarning: `early_stopping_rounds` in `fit` method is deprecated for better compatibility with scikit-learn, use `early_stopping_rounds` in constructor or`set_params` instead.\n",
      "  warnings.warn(\n",
      "\n"
     ]
    },
    {
     "name": "stdout",
     "output_type": "stream",
     "text": [
      "\r",
      " 92%|███████████████████████████████████████████▏   | 92/100 [00:14<00:01,  4.54trial/s, best loss: 0.9300476086755514]"
     ]
    },
    {
     "name": "stderr",
     "output_type": "stream",
     "text": [
      "C:\\Users\\HP\\anaconda3\\lib\\site-packages\\xgboost\\sklearn.py:885: UserWarning: `early_stopping_rounds` in `fit` method is deprecated for better compatibility with scikit-learn, use `early_stopping_rounds` in constructor or`set_params` instead.\n",
      "  warnings.warn(\n",
      "\n"
     ]
    },
    {
     "name": "stdout",
     "output_type": "stream",
     "text": [
      "\r",
      " 93%|███████████████████████████████████████████▋   | 93/100 [00:15<00:01,  3.93trial/s, best loss: 0.9300476086755514]"
     ]
    },
    {
     "name": "stderr",
     "output_type": "stream",
     "text": [
      "C:\\Users\\HP\\anaconda3\\lib\\site-packages\\xgboost\\sklearn.py:885: UserWarning: `early_stopping_rounds` in `fit` method is deprecated for better compatibility with scikit-learn, use `early_stopping_rounds` in constructor or`set_params` instead.\n",
      "  warnings.warn(\n",
      "\n"
     ]
    },
    {
     "name": "stdout",
     "output_type": "stream",
     "text": [
      "\r",
      " 94%|████████████████████████████████████████████▏  | 94/100 [00:15<00:01,  3.88trial/s, best loss: 0.9300476086755514]"
     ]
    },
    {
     "name": "stderr",
     "output_type": "stream",
     "text": [
      "C:\\Users\\HP\\anaconda3\\lib\\site-packages\\xgboost\\sklearn.py:885: UserWarning: `early_stopping_rounds` in `fit` method is deprecated for better compatibility with scikit-learn, use `early_stopping_rounds` in constructor or`set_params` instead.\n",
      "  warnings.warn(\n",
      "\n"
     ]
    },
    {
     "name": "stdout",
     "output_type": "stream",
     "text": [
      "\r",
      " 95%|████████████████████████████████████████████▋  | 95/100 [00:15<00:01,  3.83trial/s, best loss: 0.9300476086755514]"
     ]
    },
    {
     "name": "stderr",
     "output_type": "stream",
     "text": [
      "C:\\Users\\HP\\anaconda3\\lib\\site-packages\\xgboost\\sklearn.py:885: UserWarning: `early_stopping_rounds` in `fit` method is deprecated for better compatibility with scikit-learn, use `early_stopping_rounds` in constructor or`set_params` instead.\n",
      "  warnings.warn(\n",
      "\n",
      "C:\\Users\\HP\\anaconda3\\lib\\site-packages\\xgboost\\sklearn.py:885: UserWarning: `early_stopping_rounds` in `fit` method is deprecated for better compatibility with scikit-learn, use `early_stopping_rounds` in constructor or`set_params` instead.\n",
      "  warnings.warn(\n",
      "\n"
     ]
    },
    {
     "name": "stdout",
     "output_type": "stream",
     "text": [
      " 97%|█████████████████████████████████████████████▌ | 97/100 [00:15<00:00,  5.12trial/s, best loss: 0.9300476086755514]"
     ]
    },
    {
     "name": "stderr",
     "output_type": "stream",
     "text": [
      "C:\\Users\\HP\\anaconda3\\lib\\site-packages\\xgboost\\sklearn.py:885: UserWarning: `early_stopping_rounds` in `fit` method is deprecated for better compatibility with scikit-learn, use `early_stopping_rounds` in constructor or`set_params` instead.\n",
      "  warnings.warn(\n",
      "\n",
      "C:\\Users\\HP\\anaconda3\\lib\\site-packages\\xgboost\\sklearn.py:885: UserWarning: `early_stopping_rounds` in `fit` method is deprecated for better compatibility with scikit-learn, use `early_stopping_rounds` in constructor or`set_params` instead.\n",
      "  warnings.warn(\n",
      "\n"
     ]
    },
    {
     "name": "stdout",
     "output_type": "stream",
     "text": [
      "100%|██████████████████████████████████████████████| 100/100 [00:16<00:00,  6.35trial/s, best loss: 0.9300476086755514]"
     ]
    },
    {
     "name": "stderr",
     "output_type": "stream",
     "text": [
      "C:\\Users\\HP\\anaconda3\\lib\\site-packages\\xgboost\\sklearn.py:885: UserWarning: `early_stopping_rounds` in `fit` method is deprecated for better compatibility with scikit-learn, use `early_stopping_rounds` in constructor or`set_params` instead.\n",
      "  warnings.warn(\n",
      "\n",
      "C:\\Users\\HP\\anaconda3\\lib\\site-packages\\xgboost\\sklearn.py:885: UserWarning: `early_stopping_rounds` in `fit` method is deprecated for better compatibility with scikit-learn, use `early_stopping_rounds` in constructor or`set_params` instead.\n",
      "  warnings.warn(\n",
      "\n"
     ]
    },
    {
     "name": "stdout",
     "output_type": "stream",
     "text": [
      "100%|██████████████████████████████████████████████| 100/100 [00:16<00:00,  6.14trial/s, best loss: 0.9300476086755514]\n"
     ]
    }
   ],
   "source": [
    "trials = Trials()\n",
    "\n",
    "best_hyperparams = fmin(fn = objective,\n",
    "                        space = space,\n",
    "                        algo = tpe.suggest,\n",
    "                        max_evals = 100,\n",
    "                        trials = trials)"
   ]
  },
  {
   "cell_type": "markdown",
   "id": "9902561a",
   "metadata": {},
   "source": [
    "# Obtaining the best / optimal model hyper parameters in a variable called 'a'."
   ]
  },
  {
   "cell_type": "code",
   "execution_count": 31,
   "id": "39132c09",
   "metadata": {},
   "outputs": [],
   "source": [
    "a=best_hyperparams\n"
   ]
  },
  {
   "cell_type": "code",
   "execution_count": 32,
   "id": "152096fc",
   "metadata": {},
   "outputs": [
    {
     "data": {
      "text/plain": [
       "{'colsample_bytree': 0.9725834167009573,\n",
       " 'gamma': 3.4872102924649715,\n",
       " 'max_depth': 3.0,\n",
       " 'min_child_weight': 8.0,\n",
       " 'reg_alpha': 145.0,\n",
       " 'reg_lambda': 0.32636469743294483}"
      ]
     },
     "execution_count": 32,
     "metadata": {},
     "output_type": "execute_result"
    }
   ],
   "source": [
    "a"
   ]
  },
  {
   "cell_type": "markdown",
   "id": "b50a2f8b",
   "metadata": {},
   "source": [
    "# Building the Model with the best found hyper parameters"
   ]
  },
  {
   "cell_type": "code",
   "execution_count": 33,
   "id": "6da6baba",
   "metadata": {},
   "outputs": [],
   "source": [
    "xgb_best=xgb.XGBRegressor(n_estimators=200,colsample_bytree=0.9363861380433605,gamma=3.7370766470698418,max_depth =3,\n",
    " min_child_weight= 10.0,\n",
    " reg_alpha= 162.0,\n",
    " reg_lambda= 0.0035112020420807744)"
   ]
  },
  {
   "cell_type": "code",
   "execution_count": null,
   "id": "834c9fb5",
   "metadata": {},
   "outputs": [],
   "source": []
  },
  {
   "cell_type": "code",
   "execution_count": 34,
   "id": "3dbddb6e",
   "metadata": {},
   "outputs": [
    {
     "data": {
      "text/plain": [
       "XGBRegressor(base_score=None, booster=None, callbacks=None,\n",
       "             colsample_bylevel=None, colsample_bynode=None,\n",
       "             colsample_bytree=0.9363861380433605, device=None,\n",
       "             early_stopping_rounds=None, enable_categorical=False,\n",
       "             eval_metric=None, feature_types=None, gamma=3.7370766470698418,\n",
       "             grow_policy=None, importance_type=None,\n",
       "             interaction_constraints=None, learning_rate=None, max_bin=None,\n",
       "             max_cat_threshold=None, max_cat_to_onehot=None,\n",
       "             max_delta_step=None, max_depth=3, max_leaves=None,\n",
       "             min_child_weight=10.0, missing=nan, monotone_constraints=None,\n",
       "             multi_strategy=None, n_estimators=200, n_jobs=None,\n",
       "             num_parallel_tree=None, random_state=None, ...)"
      ]
     },
     "execution_count": 34,
     "metadata": {},
     "output_type": "execute_result"
    }
   ],
   "source": [
    "xgb_best.fit(x_train,y_train)"
   ]
  },
  {
   "cell_type": "code",
   "execution_count": 35,
   "id": "1625f002",
   "metadata": {},
   "outputs": [],
   "source": [
    "y_pred=xgb_best.predict(x_test)"
   ]
  },
  {
   "cell_type": "code",
   "execution_count": 36,
   "id": "bed66298",
   "metadata": {},
   "outputs": [
    {
     "data": {
      "text/plain": [
       "Text(0.5, 0, 'Strain %')"
      ]
     },
     "execution_count": 36,
     "metadata": {},
     "output_type": "execute_result"
    },
    {
     "data": {
      "image/png": "[encoded data removed]",
      "text/plain": [
       "<Figure size 432x288 with 1 Axes>"
      ]
     },
     "metadata": {
      "needs_background": "light"
     },
     "output_type": "display_data"
    }
   ],
   "source": [
    "plt.figure()\n",
    "plt.plot(y_test,x_test['Stress (N/mm2)'],'bo')\n",
    "plt.plot(y_pred,x_test['Stress (N/mm2)'],'r*')\n",
    "plt.tick_params(axis=\"x\", which=\"both\", bottom=True, top=False, labelbottom=False)\n",
    "plt.legend(['Experimental Data', 'Model Prediction'],loc='best')\n",
    "plt.ylabel(\"Stress Mpa\")\n",
    "plt.xlabel(\"Strain %\")"
   ]
  },
  {
   "cell_type": "code",
   "execution_count": null,
   "id": "6e126b17",
   "metadata": {},
   "outputs": [],
   "source": []
  },
  {
   "cell_type": "code",
   "execution_count": 37,
   "id": "43a6a1d6",
   "metadata": {},
   "outputs": [
    {
     "data": {
      "text/plain": [
       "0.9937827372674116"
      ]
     },
     "execution_count": 37,
     "metadata": {},
     "output_type": "execute_result"
    }
   ],
   "source": [
    "xgb_best.score(x_test,y_test)"
   ]
  },
  {
   "cell_type": "markdown",
   "id": "e1be83c3",
   "metadata": {},
   "source": [
    "# Prediction on XNBR Data- Current Model"
   ]
  },
  {
   "cell_type": "code",
   "execution_count": 38,
   "id": "4c73427d",
   "metadata": {},
   "outputs": [
    {
     "data": {
      "text/plain": [
       "Index(['Long Chain Fraction', 'Short Chain Fraction', 'MwL', 'MwS', 'Type',\n",
       "       'Stress (N/mm2)'],\n",
       "      dtype='object')"
      ]
     },
     "execution_count": 38,
     "metadata": {},
     "output_type": "execute_result"
    }
   ],
   "source": [
    "x_test.columns"
   ]
  },
  {
   "cell_type": "code",
   "execution_count": 39,
   "id": "dd4bde73",
   "metadata": {},
   "outputs": [],
   "source": [
    "a=list(x_test.index)"
   ]
  },
  {
   "cell_type": "code",
   "execution_count": 42,
   "id": "687f8729",
   "metadata": {},
   "outputs": [],
   "source": [
    "#dummy_var=x_test.loc[list(df_xbr_tst.index),:]"
   ]
  },
  {
   "cell_type": "code",
   "execution_count": 43,
   "id": "86207ea3",
   "metadata": {},
   "outputs": [],
   "source": [
    "df_xbr_tst=x_test[x_test['Type']==6]"
   ]
  },
  {
   "cell_type": "code",
   "execution_count": 44,
   "id": "619aaadb",
   "metadata": {},
   "outputs": [
    {
     "data": {
      "text/html": [
       "<div>\n",
       "<style scoped>\n",
       "    .dataframe tbody tr th:only-of-type {\n",
       "        vertical-align: middle;\n",
       "    }\n",
       "\n",
       "    .dataframe tbody tr th {\n",
       "        vertical-align: top;\n",
       "    }\n",
       "\n",
       "    .dataframe thead th {\n",
       "        text-align: right;\n",
       "    }\n",
       "</style>\n",
       "<table border=\"1\" class=\"dataframe\">\n",
       "  <thead>\n",
       "    <tr style=\"text-align: right;\">\n",
       "      <th></th>\n",
       "      <th>Long Chain Fraction</th>\n",
       "      <th>Short Chain Fraction</th>\n",
       "      <th>MwL</th>\n",
       "      <th>MwS</th>\n",
       "      <th>Type</th>\n",
       "      <th>Stress (N/mm2)</th>\n",
       "    </tr>\n",
       "  </thead>\n",
       "  <tbody>\n",
       "    <tr>\n",
       "      <th>5983</th>\n",
       "      <td>0.75</td>\n",
       "      <td>0.25</td>\n",
       "      <td>45000</td>\n",
       "      <td>3384</td>\n",
       "      <td>6</td>\n",
       "      <td>2.37</td>\n",
       "    </tr>\n",
       "    <tr>\n",
       "      <th>6096</th>\n",
       "      <td>0.75</td>\n",
       "      <td>0.25</td>\n",
       "      <td>45000</td>\n",
       "      <td>3384</td>\n",
       "      <td>6</td>\n",
       "      <td>3.00</td>\n",
       "    </tr>\n",
       "    <tr>\n",
       "      <th>5984</th>\n",
       "      <td>0.75</td>\n",
       "      <td>0.25</td>\n",
       "      <td>45000</td>\n",
       "      <td>3384</td>\n",
       "      <td>6</td>\n",
       "      <td>2.38</td>\n",
       "    </tr>\n",
       "    <tr>\n",
       "      <th>5745</th>\n",
       "      <td>0.75</td>\n",
       "      <td>0.25</td>\n",
       "      <td>45000</td>\n",
       "      <td>3384</td>\n",
       "      <td>6</td>\n",
       "      <td>1.29</td>\n",
       "    </tr>\n",
       "    <tr>\n",
       "      <th>6216</th>\n",
       "      <td>0.75</td>\n",
       "      <td>0.25</td>\n",
       "      <td>45000</td>\n",
       "      <td>3384</td>\n",
       "      <td>6</td>\n",
       "      <td>3.89</td>\n",
       "    </tr>\n",
       "  </tbody>\n",
       "</table>\n",
       "</div>"
      ],
      "text/plain": [
       "      Long Chain Fraction  Short Chain Fraction    MwL   MwS  Type  \\\n",
       "5983                 0.75                  0.25  45000  3384     6   \n",
       "6096                 0.75                  0.25  45000  3384     6   \n",
       "5984                 0.75                  0.25  45000  3384     6   \n",
       "5745                 0.75                  0.25  45000  3384     6   \n",
       "6216                 0.75                  0.25  45000  3384     6   \n",
       "\n",
       "      Stress (N/mm2)  \n",
       "5983            2.37  \n",
       "6096            3.00  \n",
       "5984            2.38  \n",
       "5745            1.29  \n",
       "6216            3.89  "
      ]
     },
     "execution_count": 44,
     "metadata": {},
     "output_type": "execute_result"
    }
   ],
   "source": [
    "df_xbr_tst.tail(5)"
   ]
  },
  {
   "cell_type": "code",
   "execution_count": 45,
   "id": "5bef7f20",
   "metadata": {},
   "outputs": [],
   "source": [
    "y_tst_xbr=y_test.loc[list(df_xbr_tst.index)]"
   ]
  },
  {
   "cell_type": "code",
   "execution_count": 46,
   "id": "39d569a9",
   "metadata": {},
   "outputs": [
    {
     "data": {
      "text/plain": [
       "6314    241.0\n",
       "6412    275.0\n",
       "6082    160.0\n",
       "5692     23.9\n",
       "5674     17.6\n",
       "Name: Strain (%), dtype: float64"
      ]
     },
     "execution_count": 46,
     "metadata": {},
     "output_type": "execute_result"
    }
   ],
   "source": [
    "y_tst_xbr.head()"
   ]
  },
  {
   "cell_type": "markdown",
   "id": "ce8629c1",
   "metadata": {},
   "source": [
    "# Prediction on Pure XNBR test data by the best found model after model training"
   ]
  },
  {
   "cell_type": "code",
   "execution_count": 49,
   "id": "7e177779",
   "metadata": {},
   "outputs": [],
   "source": [
    "y_prd_xbr=xgb_best.predict(df_xbr_tst)"
   ]
  },
  {
   "cell_type": "code",
   "execution_count": 50,
   "id": "6f056a6b",
   "metadata": {},
   "outputs": [
    {
     "data": {
      "text/plain": [
       "Text(0.5, 0, 'Strain (%)')"
      ]
     },
     "execution_count": 50,
     "metadata": {},
     "output_type": "execute_result"
    },
    {
     "data": {
      "image/png": "[encoded data removed]",
      "text/plain": [
       "<Figure size 432x288 with 1 Axes>"
      ]
     },
     "metadata": {
      "needs_background": "light"
     },
     "output_type": "display_data"
    }
   ],
   "source": [
    "plt.figure()\n",
    "plt.plot(y_tst_xbr,df_xbr_tst['Stress (N/mm2)'],'bo')\n",
    "plt.plot(y_prd_xbr,df_xbr_tst['Stress (N/mm2)'],'r*')\n",
    "plt.tick_params(axis=\"x\", which=\"both\", bottom=True, top=False, labelbottom=True)\n",
    "plt.legend(['Experimental Data', 'Model Prediction'],loc='best')\n",
    "plt.ylabel(\"Stress (Mpa)\")\n",
    "plt.xlabel(\"Strain (%)\")"
   ]
  },
  {
   "cell_type": "code",
   "execution_count": 41,
   "id": "e91b1b27",
   "metadata": {},
   "outputs": [
    {
     "data": {
      "text/plain": [
       "0.9894840855652779"
      ]
     },
     "execution_count": 41,
     "metadata": {},
     "output_type": "execute_result"
    }
   ],
   "source": [
    "# XNBR test Score\n",
    "xgb_best.score(df_xbr_tst,y_tst_xbr)"
   ]
  },
  {
   "cell_type": "code",
   "execution_count": 51,
   "id": "f1b49a5a",
   "metadata": {},
   "outputs": [
    {
     "data": {
      "text/plain": [
       "Text(0.5, 0, 'True Strain')"
      ]
     },
     "execution_count": 51,
     "metadata": {},
     "output_type": "execute_result"
    },
    {
     "data": {
      "image/png": "[encoded data removed]",
      "text/plain": [
       "<Figure size 432x288 with 1 Axes>"
      ]
     },
     "metadata": {
      "needs_background": "light"
     },
     "output_type": "display_data"
    }
   ],
   "source": [
    "plt.figure()\n",
    "plt.plot(y_test,y_test,)\n",
    "plt.plot(y_test,y_pred,'r*')\n",
    "plt.tick_params(axis=\"x\", which=\"both\", bottom=True, top=False, labelbottom=True)\n",
    "plt.legend(['True Strain', 'Predicted Strain'],loc='best')\n",
    "plt.ylabel(\"Predicted Strain\")\n",
    "plt.xlabel(\"True Strain\")"
   ]
  },
  {
   "cell_type": "code",
   "execution_count": 43,
   "id": "69d587c7",
   "metadata": {},
   "outputs": [
    {
     "name": "stderr",
     "output_type": "stream",
     "text": [
      "<ipython-input-43-42e4be2af496>:2: SettingWithCopyWarning: \n",
      "A value is trying to be set on a copy of a slice from a DataFrame.\n",
      "Try using .loc[row_indexer,col_indexer] = value instead\n",
      "\n",
      "See the caveats in the documentation: https://pandas.pydata.org/pandas-docs/stable/user_guide/indexing.html#returning-a-view-versus-a-copy\n",
      "  xnbr_test_result['Strain(%)']=y_tst_xbr\n"
     ]
    }
   ],
   "source": [
    "xnbr_test_result=df_xbr_tst\n",
    "xnbr_test_result['Strain(%)']=y_tst_xbr"
   ]
  },
  {
   "cell_type": "code",
   "execution_count": 44,
   "id": "2d82b376",
   "metadata": {},
   "outputs": [
    {
     "name": "stderr",
     "output_type": "stream",
     "text": [
      "<ipython-input-44-e42da5dd0226>:1: SettingWithCopyWarning: \n",
      "A value is trying to be set on a copy of a slice from a DataFrame.\n",
      "Try using .loc[row_indexer,col_indexer] = value instead\n",
      "\n",
      "See the caveats in the documentation: https://pandas.pydata.org/pandas-docs/stable/user_guide/indexing.html#returning-a-view-versus-a-copy\n",
      "  xnbr_test_result['Predicted_Strain(%)']=y_prd_xbr\n"
     ]
    }
   ],
   "source": [
    "xnbr_test_result['Predicted_Strain(%)']=y_prd_xbr"
   ]
  },
  {
   "cell_type": "code",
   "execution_count": 45,
   "id": "f844f2b5",
   "metadata": {},
   "outputs": [],
   "source": [
    "xnbr_test_result.to_excel('XNBR_MODEL_Testing_Result.xlsx')"
   ]
  },
  {
   "cell_type": "code",
   "execution_count": 46,
   "id": "3144035d",
   "metadata": {},
   "outputs": [],
   "source": [
    "##y_train_pred=xgb_best.predict(x_train)\n",
    "##plt.figure()\n",
    "##plt.plot(y_train,y_train,)\n",
    "##plt.plot(y_train,y_train_pred,'r*')\n",
    "##plt.tick_params(axis=\"x\", which=\"both\", bottom=True, top=False, labelbottom=True)\n",
    "##plt.ylabel(\"Predicted Strain\")\n",
    "##plt.xlabel(\"True Strain\")"
   ]
  },
  {
   "cell_type": "code",
   "execution_count": 47,
   "id": "636d386f",
   "metadata": {},
   "outputs": [],
   "source": [
    "#xgb_best.score(x_test,y_test)#0.9901716340548232 score for over all data"
   ]
  },
  {
   "cell_type": "markdown",
   "id": "f3eee185",
   "metadata": {},
   "source": [
    "# Testing the model on the new XNBR DATA - (XNBR+zno) & (XNBR Mgo)"
   ]
  },
  {
   "cell_type": "code",
   "execution_count": 60,
   "id": "9989e616",
   "metadata": {},
   "outputs": [],
   "source": [
    "XNBR_new=pd.read_excel (r'C:\\Users\\HP\\Downloads\\Project_Dataset-2_twist.xlsx', sheet_name='XNBR_NEW_STB_ZERO')"
   ]
  },
  {
   "cell_type": "code",
   "execution_count": 61,
   "id": "3f1e675d",
   "metadata": {},
   "outputs": [
    {
     "data": {
      "text/html": [
       "<div>\n",
       "<style scoped>\n",
       "    .dataframe tbody tr th:only-of-type {\n",
       "        vertical-align: middle;\n",
       "    }\n",
       "\n",
       "    .dataframe tbody tr th {\n",
       "        vertical-align: top;\n",
       "    }\n",
       "\n",
       "    .dataframe thead th {\n",
       "        text-align: right;\n",
       "    }\n",
       "</style>\n",
       "<table border=\"1\" class=\"dataframe\">\n",
       "  <thead>\n",
       "    <tr style=\"text-align: right;\">\n",
       "      <th></th>\n",
       "      <th>Long Chain Fraction</th>\n",
       "      <th>Short Chain Fraction</th>\n",
       "      <th>MwL</th>\n",
       "      <th>MwS</th>\n",
       "      <th>Type</th>\n",
       "      <th>Stress (N/mm2)</th>\n",
       "      <th>Strain (%)</th>\n",
       "      <th>Info</th>\n",
       "      <th>Unnamed: 8</th>\n",
       "      <th>Unnamed: 9</th>\n",
       "      <th>Unnamed: 10</th>\n",
       "    </tr>\n",
       "  </thead>\n",
       "  <tbody>\n",
       "    <tr>\n",
       "      <th>0</th>\n",
       "      <td>0.75</td>\n",
       "      <td>0.25</td>\n",
       "      <td>50000</td>\n",
       "      <td>45569</td>\n",
       "      <td>7</td>\n",
       "      <td>0.648</td>\n",
       "      <td>1.26</td>\n",
       "      <td>XNBR_Zno</td>\n",
       "      <td>NaN</td>\n",
       "      <td>NaN</td>\n",
       "      <td>100.0</td>\n",
       "    </tr>\n",
       "    <tr>\n",
       "      <th>1</th>\n",
       "      <td>0.75</td>\n",
       "      <td>0.25</td>\n",
       "      <td>50000</td>\n",
       "      <td>45569</td>\n",
       "      <td>7</td>\n",
       "      <td>0.648</td>\n",
       "      <td>1.26</td>\n",
       "      <td>XNBR_Zno</td>\n",
       "      <td>NaN</td>\n",
       "      <td>NaN</td>\n",
       "      <td>NaN</td>\n",
       "    </tr>\n",
       "    <tr>\n",
       "      <th>2</th>\n",
       "      <td>0.75</td>\n",
       "      <td>0.25</td>\n",
       "      <td>50000</td>\n",
       "      <td>45569</td>\n",
       "      <td>7</td>\n",
       "      <td>1.260</td>\n",
       "      <td>2.61</td>\n",
       "      <td>XNBR_Zno</td>\n",
       "      <td>NaN</td>\n",
       "      <td>NaN</td>\n",
       "      <td>NaN</td>\n",
       "    </tr>\n",
       "    <tr>\n",
       "      <th>3</th>\n",
       "      <td>0.75</td>\n",
       "      <td>0.25</td>\n",
       "      <td>50000</td>\n",
       "      <td>45569</td>\n",
       "      <td>7</td>\n",
       "      <td>1.930</td>\n",
       "      <td>4.37</td>\n",
       "      <td>XNBR_Zno</td>\n",
       "      <td>NaN</td>\n",
       "      <td>NaN</td>\n",
       "      <td>NaN</td>\n",
       "    </tr>\n",
       "    <tr>\n",
       "      <th>4</th>\n",
       "      <td>0.75</td>\n",
       "      <td>0.25</td>\n",
       "      <td>50000</td>\n",
       "      <td>45569</td>\n",
       "      <td>7</td>\n",
       "      <td>2.630</td>\n",
       "      <td>6.94</td>\n",
       "      <td>XNBR_Zno</td>\n",
       "      <td>NaN</td>\n",
       "      <td>NaN</td>\n",
       "      <td>NaN</td>\n",
       "    </tr>\n",
       "  </tbody>\n",
       "</table>\n",
       "</div>"
      ],
      "text/plain": [
       "   Long Chain Fraction  Short Chain Fraction    MwL    MwS  Type  \\\n",
       "0                 0.75                  0.25  50000  45569     7   \n",
       "1                 0.75                  0.25  50000  45569     7   \n",
       "2                 0.75                  0.25  50000  45569     7   \n",
       "3                 0.75                  0.25  50000  45569     7   \n",
       "4                 0.75                  0.25  50000  45569     7   \n",
       "\n",
       "   Stress (N/mm2)  Strain (%)      Info  Unnamed: 8  Unnamed: 9  Unnamed: 10  \n",
       "0           0.648        1.26  XNBR_Zno         NaN         NaN        100.0  \n",
       "1           0.648        1.26  XNBR_Zno         NaN         NaN          NaN  \n",
       "2           1.260        2.61  XNBR_Zno         NaN         NaN          NaN  \n",
       "3           1.930        4.37  XNBR_Zno         NaN         NaN          NaN  \n",
       "4           2.630        6.94  XNBR_Zno         NaN         NaN          NaN  "
      ]
     },
     "execution_count": 61,
     "metadata": {},
     "output_type": "execute_result"
    }
   ],
   "source": [
    "XNBR_new.head()"
   ]
  },
  {
   "cell_type": "code",
   "execution_count": 62,
   "id": "17960320",
   "metadata": {},
   "outputs": [],
   "source": [
    "x_xnbr_nu=XNBR_new[['Long Chain Fraction', 'Short Chain Fraction', 'MwL', 'MwS', 'Type',\n",
    "       'Stress (N/mm2)']]"
   ]
  },
  {
   "cell_type": "code",
   "execution_count": 63,
   "id": "16186fe7",
   "metadata": {},
   "outputs": [],
   "source": [
    "y_xnbr_nu=XNBR_new[['Strain (%)']]"
   ]
  },
  {
   "cell_type": "code",
   "execution_count": 64,
   "id": "1566f914",
   "metadata": {},
   "outputs": [],
   "source": [
    "y_prd_xnbr_nu=xgb_best.predict(x_xnbr_nu)"
   ]
  },
  {
   "cell_type": "code",
   "execution_count": 65,
   "id": "3d25e117",
   "metadata": {
    "scrolled": true
   },
   "outputs": [
    {
     "data": {
      "text/plain": [
       "Text(0.5, 0, 'Strain (%)')"
      ]
     },
     "execution_count": 65,
     "metadata": {},
     "output_type": "execute_result"
    },
    {
     "data": {
      "image/png": "[encoded data removed]",
      "text/plain": [
       "<Figure size 432x288 with 1 Axes>"
      ]
     },
     "metadata": {
      "needs_background": "light"
     },
     "output_type": "display_data"
    }
   ],
   "source": [
    "plt.figure()\n",
    "plt.plot(y_xnbr_nu,x_xnbr_nu['Stress (N/mm2)'],'bo')\n",
    "plt.plot(y_prd_xnbr_nu,x_xnbr_nu['Stress (N/mm2)'],'r*')\n",
    "plt.tick_params(axis=\"x\", which=\"both\", bottom=True, top=False, labelbottom=True)\n",
    "plt.legend(['Experimental Data', 'Model Prediction'],loc='best')\n",
    "plt.ylabel(\"Stress (Mpa)\")\n",
    "plt.xlabel(\"Strain (%)\")"
   ]
  },
  {
   "cell_type": "code",
   "execution_count": null,
   "id": "b61ffbdd",
   "metadata": {},
   "outputs": [],
   "source": []
  },
  {
   "cell_type": "code",
   "execution_count": null,
   "id": "3ef05020",
   "metadata": {},
   "outputs": [],
   "source": []
  },
  {
   "cell_type": "code",
   "execution_count": null,
   "id": "8cb3efbd",
   "metadata": {},
   "outputs": [],
   "source": []
  },
  {
   "cell_type": "code",
   "execution_count": null,
   "id": "fe0791c4",
   "metadata": {},
   "outputs": [],
   "source": []
  },
  {
   "cell_type": "markdown",
   "id": "0e34efe6",
   "metadata": {},
   "source": [
    "# Testing the model on the PDMS DATA"
   ]
  },
  {
   "cell_type": "code",
   "execution_count": 54,
   "id": "83e81918",
   "metadata": {},
   "outputs": [],
   "source": [
    "df_test = pd.read_excel(r'C:\\Users\\HP\\Downloads\\Project_Dataset-2_twist.xlsx', sheet_name='Sheet2')\n",
    "\n"
   ]
  },
  {
   "cell_type": "code",
   "execution_count": 55,
   "id": "3faafb46",
   "metadata": {},
   "outputs": [
    {
     "data": {
      "text/html": [
       "<div>\n",
       "<style scoped>\n",
       "    .dataframe tbody tr th:only-of-type {\n",
       "        vertical-align: middle;\n",
       "    }\n",
       "\n",
       "    .dataframe tbody tr th {\n",
       "        vertical-align: top;\n",
       "    }\n",
       "\n",
       "    .dataframe thead th {\n",
       "        text-align: right;\n",
       "    }\n",
       "</style>\n",
       "<table border=\"1\" class=\"dataframe\">\n",
       "  <thead>\n",
       "    <tr style=\"text-align: right;\">\n",
       "      <th></th>\n",
       "      <th>Long Chain Fraction</th>\n",
       "      <th>Short Chain Fraction</th>\n",
       "      <th>MwL</th>\n",
       "      <th>MwS</th>\n",
       "      <th>Type</th>\n",
       "      <th>Stress (N/mm2)</th>\n",
       "      <th>Strain (%)</th>\n",
       "      <th>Info</th>\n",
       "    </tr>\n",
       "  </thead>\n",
       "  <tbody>\n",
       "    <tr>\n",
       "      <th>0</th>\n",
       "      <td>0.8</td>\n",
       "      <td>0.2</td>\n",
       "      <td>18952</td>\n",
       "      <td>4323</td>\n",
       "      <td>3</td>\n",
       "      <td>0.0</td>\n",
       "      <td>0.00000</td>\n",
       "      <td>L80-S20</td>\n",
       "    </tr>\n",
       "    <tr>\n",
       "      <th>1</th>\n",
       "      <td>0.8</td>\n",
       "      <td>0.2</td>\n",
       "      <td>18952</td>\n",
       "      <td>4323</td>\n",
       "      <td>3</td>\n",
       "      <td>0.0</td>\n",
       "      <td>0.00000</td>\n",
       "      <td>L80-S20</td>\n",
       "    </tr>\n",
       "    <tr>\n",
       "      <th>2</th>\n",
       "      <td>0.8</td>\n",
       "      <td>0.2</td>\n",
       "      <td>18952</td>\n",
       "      <td>4323</td>\n",
       "      <td>3</td>\n",
       "      <td>0.0</td>\n",
       "      <td>0.00000</td>\n",
       "      <td>L80-S20</td>\n",
       "    </tr>\n",
       "    <tr>\n",
       "      <th>3</th>\n",
       "      <td>0.8</td>\n",
       "      <td>0.2</td>\n",
       "      <td>18952</td>\n",
       "      <td>4323</td>\n",
       "      <td>3</td>\n",
       "      <td>0.0</td>\n",
       "      <td>0.00303</td>\n",
       "      <td>L80-S20</td>\n",
       "    </tr>\n",
       "    <tr>\n",
       "      <th>4</th>\n",
       "      <td>0.8</td>\n",
       "      <td>0.2</td>\n",
       "      <td>18952</td>\n",
       "      <td>4323</td>\n",
       "      <td>3</td>\n",
       "      <td>0.0</td>\n",
       "      <td>0.06360</td>\n",
       "      <td>L80-S20</td>\n",
       "    </tr>\n",
       "  </tbody>\n",
       "</table>\n",
       "</div>"
      ],
      "text/plain": [
       "   Long Chain Fraction  Short Chain Fraction    MwL   MwS  Type  \\\n",
       "0                  0.8                   0.2  18952  4323     3   \n",
       "1                  0.8                   0.2  18952  4323     3   \n",
       "2                  0.8                   0.2  18952  4323     3   \n",
       "3                  0.8                   0.2  18952  4323     3   \n",
       "4                  0.8                   0.2  18952  4323     3   \n",
       "\n",
       "   Stress (N/mm2)  Strain (%)     Info  \n",
       "0             0.0     0.00000  L80-S20  \n",
       "1             0.0     0.00000  L80-S20  \n",
       "2             0.0     0.00000  L80-S20  \n",
       "3             0.0     0.00303  L80-S20  \n",
       "4             0.0     0.06360  L80-S20  "
      ]
     },
     "execution_count": 55,
     "metadata": {},
     "output_type": "execute_result"
    }
   ],
   "source": [
    "df_test.head()"
   ]
  },
  {
   "cell_type": "code",
   "execution_count": 56,
   "id": "b8960eaf",
   "metadata": {},
   "outputs": [],
   "source": [
    "xval=df_test[['Long Chain Fraction','Short Chain Fraction','MwL','MwS','Type','Stress (N/mm2)']]\n",
    "yval=df_test['Strain (%)']\n",
    "y_predt=xgb_best.predict(xval)\n",
    "err=abs(yval-y_predt)"
   ]
  },
  {
   "cell_type": "code",
   "execution_count": 84,
   "id": "d2ef08f3",
   "metadata": {},
   "outputs": [
    {
     "data": {
      "text/html": [
       "<div>\n",
       "<style scoped>\n",
       "    .dataframe tbody tr th:only-of-type {\n",
       "        vertical-align: middle;\n",
       "    }\n",
       "\n",
       "    .dataframe tbody tr th {\n",
       "        vertical-align: top;\n",
       "    }\n",
       "\n",
       "    .dataframe thead th {\n",
       "        text-align: right;\n",
       "    }\n",
       "</style>\n",
       "<table border=\"1\" class=\"dataframe\">\n",
       "  <thead>\n",
       "    <tr style=\"text-align: right;\">\n",
       "      <th></th>\n",
       "      <th>Long Chain Fraction</th>\n",
       "      <th>Short Chain Fraction</th>\n",
       "      <th>MwL</th>\n",
       "      <th>MwS</th>\n",
       "      <th>Type</th>\n",
       "      <th>Stress (N/mm2)</th>\n",
       "    </tr>\n",
       "  </thead>\n",
       "  <tbody>\n",
       "    <tr>\n",
       "      <th>0</th>\n",
       "      <td>0.8</td>\n",
       "      <td>0.2</td>\n",
       "      <td>18952</td>\n",
       "      <td>4323</td>\n",
       "      <td>3</td>\n",
       "      <td>0.0</td>\n",
       "    </tr>\n",
       "    <tr>\n",
       "      <th>1</th>\n",
       "      <td>0.8</td>\n",
       "      <td>0.2</td>\n",
       "      <td>18952</td>\n",
       "      <td>4323</td>\n",
       "      <td>3</td>\n",
       "      <td>0.0</td>\n",
       "    </tr>\n",
       "  </tbody>\n",
       "</table>\n",
       "</div>"
      ],
      "text/plain": [
       "   Long Chain Fraction  Short Chain Fraction    MwL   MwS  Type  \\\n",
       "0                  0.8                   0.2  18952  4323     3   \n",
       "1                  0.8                   0.2  18952  4323     3   \n",
       "\n",
       "   Stress (N/mm2)  \n",
       "0             0.0  \n",
       "1             0.0  "
      ]
     },
     "execution_count": 84,
     "metadata": {},
     "output_type": "execute_result"
    }
   ],
   "source": [
    "xval[['Long Chain Fraction', 'Short Chain Fraction', 'MwL', 'MwS', 'Type', 'Stress (N/mm2)']].head(2)"
   ]
  },
  {
   "cell_type": "code",
   "execution_count": 57,
   "id": "19224ffe",
   "metadata": {
    "scrolled": true
   },
   "outputs": [
    {
     "name": "stderr",
     "output_type": "stream",
     "text": [
      "<ipython-input-57-d655c56938a0>:2: SettingWithCopyWarning: \n",
      "A value is trying to be set on a copy of a slice from a DataFrame.\n",
      "Try using .loc[row_indexer,col_indexer] = value instead\n",
      "\n",
      "See the caveats in the documentation: https://pandas.pydata.org/pandas-docs/stable/user_guide/indexing.html#returning-a-view-versus-a-copy\n",
      "  L80_S20_test_predictions['Strain(%)']=yval\n"
     ]
    }
   ],
   "source": [
    "L80_S20_test_predictions=xval\n",
    "L80_S20_test_predictions['Strain(%)']=yval\n",
    "L80_S20_test_predictions['Predicted_Strain(%)']=y_predt"
   ]
  },
  {
   "cell_type": "code",
   "execution_count": 58,
   "id": "6e8cc974",
   "metadata": {},
   "outputs": [],
   "source": [
    "L80_S20_test_predictions.to_excel('L80_S20_test_predictions.xlsx')"
   ]
  },
  {
   "cell_type": "markdown",
   "id": "c1ed7bca",
   "metadata": {},
   "source": [
    "# Model Prediction - Accuracy score for prediction on PDMS 80:20 data set"
   ]
  },
  {
   "cell_type": "code",
   "execution_count": 85,
   "id": "73555caa",
   "metadata": {},
   "outputs": [
    {
     "data": {
      "text/plain": [
       "0.9335772416703632"
      ]
     },
     "execution_count": 85,
     "metadata": {},
     "output_type": "execute_result"
    }
   ],
   "source": [
    "xgb_best.score(xval[['Long Chain Fraction', 'Short Chain Fraction', 'MwL', 'MwS', 'Type', 'Stress (N/mm2)']],yval)"
   ]
  },
  {
   "cell_type": "code",
   "execution_count": 86,
   "id": "3dff51a6",
   "metadata": {},
   "outputs": [
    {
     "data": {
      "text/plain": [
       "Text(0.5, 0, 'Strain %')"
      ]
     },
     "execution_count": 86,
     "metadata": {},
     "output_type": "execute_result"
    },
    {
     "data": {
      "image/png": "[encoded data removed]",
      "text/plain": [
       "<Figure size 432x288 with 1 Axes>"
      ]
     },
     "metadata": {
      "needs_background": "light"
     },
     "output_type": "display_data"
    }
   ],
   "source": [
    "plt.figure()\n",
    "plt.plot(yval,xval['Stress (N/mm2)'],'bo')\n",
    "plt.plot(y_predt,xval['Stress (N/mm2)'],'r*')\n",
    "plt.tick_params(axis=\"x\", which=\"both\", bottom=True, top=False, labelbottom=False)\n",
    "plt.ylabel(\"Stress Mpa\")\n",
    "plt.xlabel(\"Strain %\")"
   ]
  },
  {
   "cell_type": "code",
   "execution_count": 87,
   "id": "52ea818c",
   "metadata": {},
   "outputs": [
    {
     "data": {
      "text/plain": [
       "Text(0.5, 0, 'Strain %')"
      ]
     },
     "execution_count": 87,
     "metadata": {},
     "output_type": "execute_result"
    },
    {
     "data": {
      "image/png": "[encoded data removed]",
      "text/plain": [
       "<Figure size 432x288 with 1 Axes>"
      ]
     },
     "metadata": {
      "needs_background": "light"
     },
     "output_type": "display_data"
    }
   ],
   "source": [
    "plt.figure()\n",
    "plt.plot(yval,err,'bo')\n",
    "#plt.plot(y_predt,xval['Stress (N/mm2)'],'r*')\n",
    "plt.tick_params(axis=\"x\", which=\"both\", bottom=True, top=False, labelbottom=False)\n",
    "plt.ylabel(\"Error\")\n",
    "plt.xlabel(\"Strain %\")"
   ]
  },
  {
   "cell_type": "code",
   "execution_count": 88,
   "id": "48c54a72",
   "metadata": {},
   "outputs": [
    {
     "data": {
      "text/plain": [
       "Text(0.5, 0, 'True Strain')"
      ]
     },
     "execution_count": 88,
     "metadata": {},
     "output_type": "execute_result"
    },
    {
     "data": {
      "image/png": "[encoded data removed]",
      "text/plain": [
       "<Figure size 432x288 with 1 Axes>"
      ]
     },
     "metadata": {
      "needs_background": "light"
     },
     "output_type": "display_data"
    }
   ],
   "source": [
    "plt.figure()\n",
    "plt.plot(yval,yval,)\n",
    "plt.plot(yval,y_predt,'r*')\n",
    "plt.tick_params(axis=\"x\", which=\"both\", bottom=True, top=False, labelbottom=True)\n",
    "plt.ylabel(\"Predicted Strain\")\n",
    "plt.xlabel(\"True Strain\")"
   ]
  },
  {
   "cell_type": "code",
   "execution_count": 89,
   "id": "0039a75f",
   "metadata": {},
   "outputs": [
    {
     "data": {
      "image/png": "[encoded data removed]",
      "text/plain": [
       "<Figure size 432x288 with 1 Axes>"
      ]
     },
     "metadata": {
      "needs_background": "light"
     },
     "output_type": "display_data"
    },
    {
     "data": {
      "text/plain": [
       "<Figure size 1152x864 with 0 Axes>"
      ]
     },
     "metadata": {},
     "output_type": "display_data"
    }
   ],
   "source": [
    "xgb.plot_importance(xgb_best)\n",
    "plt.figure(figsize = (16, 12))\n",
    "plt.show()"
   ]
  },
  {
   "cell_type": "markdown",
   "id": "0b94916d",
   "metadata": {},
   "source": [
    "# Part-2 Working on best found parameters-best hyper params"
   ]
  },
  {
   "cell_type": "code",
   "execution_count": 90,
   "id": "2c05b6c0",
   "metadata": {},
   "outputs": [
    {
     "data": {
      "text/plain": [
       "{'colsample_bytree': 0.9725834167009573,\n",
       " 'gamma': 3.4872102924649715,\n",
       " 'max_depth': 3.0,\n",
       " 'min_child_weight': 8.0,\n",
       " 'reg_alpha': 145.0,\n",
       " 'reg_lambda': 0.32636469743294483}"
      ]
     },
     "execution_count": 90,
     "metadata": {},
     "output_type": "execute_result"
    }
   ],
   "source": [
    "best_hp=best_hyperparams\n",
    "best_hp"
   ]
  },
  {
   "cell_type": "code",
   "execution_count": 91,
   "id": "10efbae6",
   "metadata": {},
   "outputs": [],
   "source": [
    "xgb_best_v2=xgb.XGBRegressor(n_estimators=200,colsample_bytree=  0.5996178368304548,gamma=7.429324858319347,max_depth =3,\n",
    " min_child_weight= 5.0,\n",
    " reg_alpha= 177.0,\n",
    " reg_lambda= 0.2770136887119444)"
   ]
  },
  {
   "cell_type": "code",
   "execution_count": 92,
   "id": "4491ad3a",
   "metadata": {},
   "outputs": [
    {
     "data": {
      "text/plain": [
       "XGBRegressor(base_score=None, booster=None, callbacks=None,\n",
       "             colsample_bylevel=None, colsample_bynode=None,\n",
       "             colsample_bytree=0.5996178368304548, device=None,\n",
       "             early_stopping_rounds=None, enable_categorical=False,\n",
       "             eval_metric=None, feature_types=None, gamma=7.429324858319347,\n",
       "             grow_policy=None, importance_type=None,\n",
       "             interaction_constraints=None, learning_rate=None, max_bin=None,\n",
       "             max_cat_threshold=None, max_cat_to_onehot=None,\n",
       "             max_delta_step=None, max_depth=3, max_leaves=None,\n",
       "             min_child_weight=5.0, missing=nan, monotone_constraints=None,\n",
       "             multi_strategy=None, n_estimators=200, n_jobs=None,\n",
       "             num_parallel_tree=None, random_state=None, ...)"
      ]
     },
     "execution_count": 92,
     "metadata": {},
     "output_type": "execute_result"
    }
   ],
   "source": [
    "xgb_best_v2.fit(x_train,y_train)"
   ]
  },
  {
   "cell_type": "code",
   "execution_count": 93,
   "id": "0dd0375f",
   "metadata": {},
   "outputs": [
    {
     "data": {
      "text/plain": [
       "0.9937777337386194"
      ]
     },
     "execution_count": 93,
     "metadata": {},
     "output_type": "execute_result"
    }
   ],
   "source": [
    "xgb_best_v2.score(x_test,y_test)"
   ]
  },
  {
   "cell_type": "code",
   "execution_count": 94,
   "id": "980a603a",
   "metadata": {},
   "outputs": [],
   "source": [
    "df_pdms_tr=x_train[x_train['Type']!=6]"
   ]
  },
  {
   "cell_type": "code",
   "execution_count": 95,
   "id": "4a85492f",
   "metadata": {},
   "outputs": [],
   "source": [
    "pdms_tr_ind=list(df_pdms_tr.index)"
   ]
  },
  {
   "cell_type": "code",
   "execution_count": 96,
   "id": "7bb994f8",
   "metadata": {},
   "outputs": [],
   "source": [
    "y_pdms_tr=y_train.loc[pdms_tr_ind]"
   ]
  },
  {
   "cell_type": "code",
   "execution_count": 97,
   "id": "66c89294",
   "metadata": {},
   "outputs": [],
   "source": [
    "x_pdms_tst=x_test[x_test['Type']!=6]"
   ]
  },
  {
   "cell_type": "code",
   "execution_count": null,
   "id": "b700c257",
   "metadata": {},
   "outputs": [],
   "source": []
  },
  {
   "cell_type": "code",
   "execution_count": 98,
   "id": "9169b845",
   "metadata": {},
   "outputs": [],
   "source": [
    "y_pdms_tst=y_test.loc[list(x_pdms_tst.index)]"
   ]
  },
  {
   "cell_type": "code",
   "execution_count": 99,
   "id": "3e3b7ea1",
   "metadata": {},
   "outputs": [
    {
     "name": "stderr",
     "output_type": "stream",
     "text": [
      "<ipython-input-99-f8b0655850b4>:1: SettingWithCopyWarning: \n",
      "A value is trying to be set on a copy of a slice from a DataFrame.\n",
      "Try using .loc[row_indexer,col_indexer] = value instead\n",
      "\n",
      "See the caveats in the documentation: https://pandas.pydata.org/pandas-docs/stable/user_guide/indexing.html#returning-a-view-versus-a-copy\n",
      "  x_pdms_tst['Strain']=y_pdms_tst\n"
     ]
    }
   ],
   "source": [
    "x_pdms_tst['Strain']=y_pdms_tst"
   ]
  },
  {
   "cell_type": "code",
   "execution_count": 100,
   "id": "fc834ad8",
   "metadata": {},
   "outputs": [],
   "source": [
    "x_pdms_tst.to_excel('Test data file_v1.xlsx')"
   ]
  },
  {
   "cell_type": "code",
   "execution_count": 104,
   "id": "20b95342",
   "metadata": {},
   "outputs": [
    {
     "data": {
      "text/html": [
       "<div>\n",
       "<style scoped>\n",
       "    .dataframe tbody tr th:only-of-type {\n",
       "        vertical-align: middle;\n",
       "    }\n",
       "\n",
       "    .dataframe tbody tr th {\n",
       "        vertical-align: top;\n",
       "    }\n",
       "\n",
       "    .dataframe thead th {\n",
       "        text-align: right;\n",
       "    }\n",
       "</style>\n",
       "<table border=\"1\" class=\"dataframe\">\n",
       "  <thead>\n",
       "    <tr style=\"text-align: right;\">\n",
       "      <th></th>\n",
       "      <th>Long Chain Fraction</th>\n",
       "      <th>Short Chain Fraction</th>\n",
       "      <th>MwL</th>\n",
       "      <th>MwS</th>\n",
       "      <th>Type</th>\n",
       "      <th>Stress (N/mm2)</th>\n",
       "    </tr>\n",
       "  </thead>\n",
       "  <tbody>\n",
       "    <tr>\n",
       "      <th>5580</th>\n",
       "      <td>0.65</td>\n",
       "      <td>0.35</td>\n",
       "      <td>18952</td>\n",
       "      <td>4323</td>\n",
       "      <td>5</td>\n",
       "      <td>0.311</td>\n",
       "    </tr>\n",
       "    <tr>\n",
       "      <th>4463</th>\n",
       "      <td>0.50</td>\n",
       "      <td>0.50</td>\n",
       "      <td>18952</td>\n",
       "      <td>4323</td>\n",
       "      <td>4</td>\n",
       "      <td>0.299</td>\n",
       "    </tr>\n",
       "    <tr>\n",
       "      <th>8050</th>\n",
       "      <td>0.75</td>\n",
       "      <td>0.25</td>\n",
       "      <td>46000</td>\n",
       "      <td>16434</td>\n",
       "      <td>8</td>\n",
       "      <td>306.000</td>\n",
       "    </tr>\n",
       "    <tr>\n",
       "      <th>5326</th>\n",
       "      <td>0.65</td>\n",
       "      <td>0.35</td>\n",
       "      <td>18952</td>\n",
       "      <td>4323</td>\n",
       "      <td>5</td>\n",
       "      <td>0.227</td>\n",
       "    </tr>\n",
       "    <tr>\n",
       "      <th>7581</th>\n",
       "      <td>0.75</td>\n",
       "      <td>0.25</td>\n",
       "      <td>50000</td>\n",
       "      <td>45569</td>\n",
       "      <td>7</td>\n",
       "      <td>633.000</td>\n",
       "    </tr>\n",
       "  </tbody>\n",
       "</table>\n",
       "</div>"
      ],
      "text/plain": [
       "      Long Chain Fraction  Short Chain Fraction    MwL    MwS  Type  \\\n",
       "5580                 0.65                  0.35  18952   4323     5   \n",
       "4463                 0.50                  0.50  18952   4323     4   \n",
       "8050                 0.75                  0.25  46000  16434     8   \n",
       "5326                 0.65                  0.35  18952   4323     5   \n",
       "7581                 0.75                  0.25  50000  45569     7   \n",
       "\n",
       "      Stress (N/mm2)  \n",
       "5580           0.311  \n",
       "4463           0.299  \n",
       "8050         306.000  \n",
       "5326           0.227  \n",
       "7581         633.000  "
      ]
     },
     "execution_count": 104,
     "metadata": {},
     "output_type": "execute_result"
    }
   ],
   "source": [
    "x_pdms_tst[['Long Chain Fraction', 'Short Chain Fraction', 'MwL', 'MwS', 'Type', 'Stress (N/mm2)']].head()"
   ]
  },
  {
   "cell_type": "code",
   "execution_count": 105,
   "id": "d8dc2328",
   "metadata": {},
   "outputs": [
    {
     "data": {
      "text/html": [
       "<div>\n",
       "<style scoped>\n",
       "    .dataframe tbody tr th:only-of-type {\n",
       "        vertical-align: middle;\n",
       "    }\n",
       "\n",
       "    .dataframe tbody tr th {\n",
       "        vertical-align: top;\n",
       "    }\n",
       "\n",
       "    .dataframe thead th {\n",
       "        text-align: right;\n",
       "    }\n",
       "</style>\n",
       "<table border=\"1\" class=\"dataframe\">\n",
       "  <thead>\n",
       "    <tr style=\"text-align: right;\">\n",
       "      <th></th>\n",
       "      <th>Long Chain Fraction</th>\n",
       "      <th>Short Chain Fraction</th>\n",
       "      <th>MwL</th>\n",
       "      <th>MwS</th>\n",
       "      <th>Type</th>\n",
       "      <th>Stress (N/mm2)</th>\n",
       "      <th>Strain</th>\n",
       "    </tr>\n",
       "  </thead>\n",
       "  <tbody>\n",
       "    <tr>\n",
       "      <th>5580</th>\n",
       "      <td>0.65</td>\n",
       "      <td>0.35</td>\n",
       "      <td>18952</td>\n",
       "      <td>4323</td>\n",
       "      <td>5</td>\n",
       "      <td>0.311</td>\n",
       "      <td>38.4</td>\n",
       "    </tr>\n",
       "    <tr>\n",
       "      <th>4463</th>\n",
       "      <td>0.50</td>\n",
       "      <td>0.50</td>\n",
       "      <td>18952</td>\n",
       "      <td>4323</td>\n",
       "      <td>4</td>\n",
       "      <td>0.299</td>\n",
       "      <td>26.0</td>\n",
       "    </tr>\n",
       "    <tr>\n",
       "      <th>8050</th>\n",
       "      <td>0.75</td>\n",
       "      <td>0.25</td>\n",
       "      <td>46000</td>\n",
       "      <td>16434</td>\n",
       "      <td>8</td>\n",
       "      <td>306.000</td>\n",
       "      <td>751.0</td>\n",
       "    </tr>\n",
       "    <tr>\n",
       "      <th>5326</th>\n",
       "      <td>0.65</td>\n",
       "      <td>0.35</td>\n",
       "      <td>18952</td>\n",
       "      <td>4323</td>\n",
       "      <td>5</td>\n",
       "      <td>0.227</td>\n",
       "      <td>25.8</td>\n",
       "    </tr>\n",
       "    <tr>\n",
       "      <th>7581</th>\n",
       "      <td>0.75</td>\n",
       "      <td>0.25</td>\n",
       "      <td>50000</td>\n",
       "      <td>45569</td>\n",
       "      <td>7</td>\n",
       "      <td>633.000</td>\n",
       "      <td>1580.0</td>\n",
       "    </tr>\n",
       "  </tbody>\n",
       "</table>\n",
       "</div>"
      ],
      "text/plain": [
       "      Long Chain Fraction  Short Chain Fraction    MwL    MwS  Type  \\\n",
       "5580                 0.65                  0.35  18952   4323     5   \n",
       "4463                 0.50                  0.50  18952   4323     4   \n",
       "8050                 0.75                  0.25  46000  16434     8   \n",
       "5326                 0.65                  0.35  18952   4323     5   \n",
       "7581                 0.75                  0.25  50000  45569     7   \n",
       "\n",
       "      Stress (N/mm2)  Strain  \n",
       "5580           0.311    38.4  \n",
       "4463           0.299    26.0  \n",
       "8050         306.000   751.0  \n",
       "5326           0.227    25.8  \n",
       "7581         633.000  1580.0  "
      ]
     },
     "execution_count": 105,
     "metadata": {},
     "output_type": "execute_result"
    }
   ],
   "source": [
    "#x_pdms_tst.drop(['Strain'], axis=1,inplace=True)\n",
    "x_pdms_tst.head()"
   ]
  },
  {
   "cell_type": "code",
   "execution_count": 106,
   "id": "801ab96c",
   "metadata": {},
   "outputs": [],
   "source": [
    "y_pdms_pred=xgb_best_v2.predict(x_pdms_tst[['Long Chain Fraction', 'Short Chain Fraction', 'MwL', 'MwS', 'Type', 'Stress (N/mm2)']])"
   ]
  },
  {
   "cell_type": "code",
   "execution_count": 107,
   "id": "ebbf199c",
   "metadata": {},
   "outputs": [
    {
     "name": "stderr",
     "output_type": "stream",
     "text": [
      "<ipython-input-107-eec5a2b5680f>:2: SettingWithCopyWarning: \n",
      "A value is trying to be set on a copy of a slice from a DataFrame.\n",
      "Try using .loc[row_indexer,col_indexer] = value instead\n",
      "\n",
      "See the caveats in the documentation: https://pandas.pydata.org/pandas-docs/stable/user_guide/indexing.html#returning-a-view-versus-a-copy\n",
      "  x_pdms_tst2['Strain']=y_pdms_pred\n"
     ]
    }
   ],
   "source": [
    "x_pdms_tst2=x_pdms_tst\n",
    "x_pdms_tst2['Strain']=y_pdms_pred"
   ]
  },
  {
   "cell_type": "code",
   "execution_count": 108,
   "id": "b588d626",
   "metadata": {
    "scrolled": true
   },
   "outputs": [
    {
     "data": {
      "text/html": [
       "<div>\n",
       "<style scoped>\n",
       "    .dataframe tbody tr th:only-of-type {\n",
       "        vertical-align: middle;\n",
       "    }\n",
       "\n",
       "    .dataframe tbody tr th {\n",
       "        vertical-align: top;\n",
       "    }\n",
       "\n",
       "    .dataframe thead th {\n",
       "        text-align: right;\n",
       "    }\n",
       "</style>\n",
       "<table border=\"1\" class=\"dataframe\">\n",
       "  <thead>\n",
       "    <tr style=\"text-align: right;\">\n",
       "      <th></th>\n",
       "      <th>Long Chain Fraction</th>\n",
       "      <th>Short Chain Fraction</th>\n",
       "      <th>MwL</th>\n",
       "      <th>MwS</th>\n",
       "      <th>Type</th>\n",
       "      <th>Stress (N/mm2)</th>\n",
       "      <th>Strain</th>\n",
       "    </tr>\n",
       "  </thead>\n",
       "  <tbody>\n",
       "    <tr>\n",
       "      <th>5580</th>\n",
       "      <td>0.65</td>\n",
       "      <td>0.35</td>\n",
       "      <td>18952</td>\n",
       "      <td>4323</td>\n",
       "      <td>5</td>\n",
       "      <td>0.311</td>\n",
       "      <td>31.832325</td>\n",
       "    </tr>\n",
       "    <tr>\n",
       "      <th>4463</th>\n",
       "      <td>0.50</td>\n",
       "      <td>0.50</td>\n",
       "      <td>18952</td>\n",
       "      <td>4323</td>\n",
       "      <td>4</td>\n",
       "      <td>0.299</td>\n",
       "      <td>25.356703</td>\n",
       "    </tr>\n",
       "    <tr>\n",
       "      <th>8050</th>\n",
       "      <td>0.75</td>\n",
       "      <td>0.25</td>\n",
       "      <td>46000</td>\n",
       "      <td>16434</td>\n",
       "      <td>8</td>\n",
       "      <td>306.000</td>\n",
       "      <td>713.947510</td>\n",
       "    </tr>\n",
       "    <tr>\n",
       "      <th>5326</th>\n",
       "      <td>0.65</td>\n",
       "      <td>0.35</td>\n",
       "      <td>18952</td>\n",
       "      <td>4323</td>\n",
       "      <td>5</td>\n",
       "      <td>0.227</td>\n",
       "      <td>24.186295</td>\n",
       "    </tr>\n",
       "    <tr>\n",
       "      <th>7581</th>\n",
       "      <td>0.75</td>\n",
       "      <td>0.25</td>\n",
       "      <td>50000</td>\n",
       "      <td>45569</td>\n",
       "      <td>7</td>\n",
       "      <td>633.000</td>\n",
       "      <td>1552.640381</td>\n",
       "    </tr>\n",
       "  </tbody>\n",
       "</table>\n",
       "</div>"
      ],
      "text/plain": [
       "      Long Chain Fraction  Short Chain Fraction    MwL    MwS  Type  \\\n",
       "5580                 0.65                  0.35  18952   4323     5   \n",
       "4463                 0.50                  0.50  18952   4323     4   \n",
       "8050                 0.75                  0.25  46000  16434     8   \n",
       "5326                 0.65                  0.35  18952   4323     5   \n",
       "7581                 0.75                  0.25  50000  45569     7   \n",
       "\n",
       "      Stress (N/mm2)       Strain  \n",
       "5580           0.311    31.832325  \n",
       "4463           0.299    25.356703  \n",
       "8050         306.000   713.947510  \n",
       "5326           0.227    24.186295  \n",
       "7581         633.000  1552.640381  "
      ]
     },
     "execution_count": 108,
     "metadata": {},
     "output_type": "execute_result"
    }
   ],
   "source": [
    "x_pdms_tst2.head()"
   ]
  },
  {
   "cell_type": "code",
   "execution_count": 109,
   "id": "86c69981",
   "metadata": {},
   "outputs": [],
   "source": [
    "x_pdms_tst[x_pdms_tst['Type']==7].to_excel('Test data file_XNBR_ZNO_2.xlsx')"
   ]
  },
  {
   "cell_type": "code",
   "execution_count": 110,
   "id": "fbeddef5",
   "metadata": {},
   "outputs": [],
   "source": [
    "x_pdms_tst[x_pdms_tst['Type']==8].to_excel('Test data file_XNBR_MGO_2.xlsx')"
   ]
  },
  {
   "cell_type": "code",
   "execution_count": 111,
   "id": "cc33c9d3",
   "metadata": {},
   "outputs": [],
   "source": [
    "x_pdms_tst2[x_pdms_tst2['Type']==7].to_excel('Predicted output_v1a.xlsx')"
   ]
  },
  {
   "cell_type": "code",
   "execution_count": 112,
   "id": "f7a09ec7",
   "metadata": {},
   "outputs": [],
   "source": [
    "x_pdms_tst2[x_pdms_tst2['Type']==8].to_excel('Predicted output_v2a.xlsx')"
   ]
  },
  {
   "cell_type": "code",
   "execution_count": 113,
   "id": "a09dc365",
   "metadata": {},
   "outputs": [],
   "source": [
    "x_pdms_tst2.to_excel('Predicted output_na1.xlsx')\n"
   ]
  },
  {
   "cell_type": "code",
   "execution_count": 114,
   "id": "0125626d",
   "metadata": {
    "scrolled": true
   },
   "outputs": [
    {
     "data": {
      "image/png": "[encoded data removed]",
      "text/plain": [
       "<Figure size 432x288 with 1 Axes>"
      ]
     },
     "metadata": {
      "needs_background": "light"
     },
     "output_type": "display_data"
    }
   ],
   "source": [
    "plt.figure()\n",
    "plt.plot(y_pdms_tst,x_pdms_tst['Stress (N/mm2)'],'bo')\n",
    "plt.plot(y_pdms_pred,x_pdms_tst['Stress (N/mm2)'],'r*')\n",
    "plt.tick_params(axis=\"x\", which=\"both\", bottom=True, top=False, labelbottom=True)\n",
    "plt.legend(['Experimental Data', 'Model Prediction'],loc='best')\n",
    "plt.ylabel(\"Stress Mpa\")\n",
    "plt.xlabel(\"Strain %\")\n",
    "plt.savefig(\"New_dat_plot.png\")"
   ]
  },
  {
   "cell_type": "markdown",
   "id": "fcd1a9af",
   "metadata": {},
   "source": [
    "# Regression Score (R^2) for model prediction on XNBR composites"
   ]
  },
  {
   "cell_type": "code",
   "execution_count": 127,
   "id": "fb249c8a",
   "metadata": {},
   "outputs": [
    {
     "data": {
      "text/plain": [
       "0.9937711173410027"
      ]
     },
     "execution_count": 127,
     "metadata": {},
     "output_type": "execute_result"
    }
   ],
   "source": [
    "xgb_best.score(x_pdms_tst[['Long Chain Fraction', 'Short Chain Fraction', 'MwL', 'MwS', 'Type', 'Stress (N/mm2)']],y_pdms_tst)"
   ]
  },
  {
   "cell_type": "code",
   "execution_count": 128,
   "id": "360ea55c",
   "metadata": {},
   "outputs": [
    {
     "data": {
      "text/plain": [
       "Text(0.5, 0, 'True Strain')"
      ]
     },
     "execution_count": 128,
     "metadata": {},
     "output_type": "execute_result"
    },
    {
     "data": {
      "image/png": "[encoded data removed]",
      "text/plain": [
       "<Figure size 432x288 with 1 Axes>"
      ]
     },
     "metadata": {
      "needs_background": "light"
     },
     "output_type": "display_data"
    }
   ],
   "source": [
    "plt.figure()\n",
    "plt.plot(y_pdms_tst,y_pdms_tst,)\n",
    "plt.plot(y_pdms_tst,y_pdms_pred,'r*')\n",
    "plt.tick_params(axis=\"x\", which=\"both\", bottom=True, top=False, labelbottom=True)\n",
    "plt.legend(['True Strain(%)', 'Predicted Strain (%)'],loc='best')\n",
    "plt.ylabel(\"Predicted Strain\")\n",
    "plt.xlabel(\"True Strain\")"
   ]
  },
  {
   "cell_type": "code",
   "execution_count": null,
   "id": "1cb9c835",
   "metadata": {},
   "outputs": [],
   "source": []
  },
  {
   "cell_type": "code",
   "execution_count": 117,
   "id": "58328078",
   "metadata": {},
   "outputs": [],
   "source": [
    "df_pdms=df_test[df_test['Type']==3]"
   ]
  },
  {
   "cell_type": "code",
   "execution_count": 118,
   "id": "a8ec76e5",
   "metadata": {},
   "outputs": [],
   "source": [
    "y_prd_pdms_2=xgb_best_v2.predict(df_pdms[['Long Chain Fraction','Short Chain Fraction','MwL','MwS','Type','Stress (N/mm2)']])"
   ]
  },
  {
   "cell_type": "code",
   "execution_count": 119,
   "id": "20a399ea",
   "metadata": {},
   "outputs": [],
   "source": [
    "df_pdms['Predicted Strain']=y_prd_pdms_2"
   ]
  },
  {
   "cell_type": "code",
   "execution_count": 120,
   "id": "3b0559db",
   "metadata": {
    "scrolled": true
   },
   "outputs": [
    {
     "data": {
      "image/png": "[encoded data removed]",
      "text/plain": [
       "<Figure size 432x288 with 1 Axes>"
      ]
     },
     "metadata": {
      "needs_background": "light"
     },
     "output_type": "display_data"
    }
   ],
   "source": [
    "plt.figure()\n",
    "plt.plot(df_pdms['Strain (%)'],df_pdms['Stress (N/mm2)'],'b')\n",
    "plt.plot(y_prd_pdms_2,df_pdms['Stress (N/mm2)'],'r')\n",
    "plt.tick_params(axis=\"x\", which=\"both\", bottom=True, top=False, labelbottom=True)\n",
    "plt.ylabel(\"Stress (N/mm2)\")\n",
    "plt.xlabel(\"Strain(%)\")\n",
    "plt.legend(['True Stress', 'Predicted Stress'])\n",
    "plt.show()"
   ]
  },
  {
   "cell_type": "code",
   "execution_count": 121,
   "id": "034f3da8",
   "metadata": {},
   "outputs": [],
   "source": [
    "dfr1 = pd.read_excel (r'C:\\Users\\HP\\Downloads\\Project_Dataset-2_twist.xlsx', sheet_name='STB_Zeroes+XNBR')"
   ]
  },
  {
   "cell_type": "code",
   "execution_count": 122,
   "id": "d0d83724",
   "metadata": {},
   "outputs": [],
   "source": [
    "dfr1=df.drop(['Unnamed: 8','Unnamed: 9','Unnamed: 10','Unnamed: 11','Unnamed: 12','Unnamed: 13','Unnamed: 14','Unnamed: 15'],axis=1)\n"
   ]
  },
  {
   "cell_type": "code",
   "execution_count": 123,
   "id": "4ee48628",
   "metadata": {},
   "outputs": [
    {
     "data": {
      "text/html": [
       "<div>\n",
       "<style scoped>\n",
       "    .dataframe tbody tr th:only-of-type {\n",
       "        vertical-align: middle;\n",
       "    }\n",
       "\n",
       "    .dataframe tbody tr th {\n",
       "        vertical-align: top;\n",
       "    }\n",
       "\n",
       "    .dataframe thead th {\n",
       "        text-align: right;\n",
       "    }\n",
       "</style>\n",
       "<table border=\"1\" class=\"dataframe\">\n",
       "  <thead>\n",
       "    <tr style=\"text-align: right;\">\n",
       "      <th></th>\n",
       "      <th>Long Chain Fraction</th>\n",
       "      <th>Short Chain Fraction</th>\n",
       "      <th>MwL</th>\n",
       "      <th>MwS</th>\n",
       "      <th>Type</th>\n",
       "      <th>Stress (N/mm2)</th>\n",
       "      <th>Strain (%)</th>\n",
       "      <th>Info</th>\n",
       "    </tr>\n",
       "  </thead>\n",
       "  <tbody>\n",
       "    <tr>\n",
       "      <th>0</th>\n",
       "      <td>0.0</td>\n",
       "      <td>1.0</td>\n",
       "      <td>18952</td>\n",
       "      <td>4323</td>\n",
       "      <td>1</td>\n",
       "      <td>0.001329</td>\n",
       "      <td>0.1848</td>\n",
       "      <td>Pure-Short</td>\n",
       "    </tr>\n",
       "    <tr>\n",
       "      <th>1</th>\n",
       "      <td>0.0</td>\n",
       "      <td>1.0</td>\n",
       "      <td>18952</td>\n",
       "      <td>4323</td>\n",
       "      <td>1</td>\n",
       "      <td>0.002660</td>\n",
       "      <td>0.2450</td>\n",
       "      <td>Pure-Short</td>\n",
       "    </tr>\n",
       "    <tr>\n",
       "      <th>2</th>\n",
       "      <td>0.0</td>\n",
       "      <td>1.0</td>\n",
       "      <td>18952</td>\n",
       "      <td>4323</td>\n",
       "      <td>1</td>\n",
       "      <td>0.005310</td>\n",
       "      <td>0.3090</td>\n",
       "      <td>Pure-Short</td>\n",
       "    </tr>\n",
       "    <tr>\n",
       "      <th>3</th>\n",
       "      <td>0.0</td>\n",
       "      <td>1.0</td>\n",
       "      <td>18952</td>\n",
       "      <td>4323</td>\n",
       "      <td>1</td>\n",
       "      <td>0.006640</td>\n",
       "      <td>0.3820</td>\n",
       "      <td>Pure-Short</td>\n",
       "    </tr>\n",
       "    <tr>\n",
       "      <th>4</th>\n",
       "      <td>0.0</td>\n",
       "      <td>1.0</td>\n",
       "      <td>18952</td>\n",
       "      <td>4323</td>\n",
       "      <td>1</td>\n",
       "      <td>0.007970</td>\n",
       "      <td>0.4330</td>\n",
       "      <td>Pure-Short</td>\n",
       "    </tr>\n",
       "  </tbody>\n",
       "</table>\n",
       "</div>"
      ],
      "text/plain": [
       "   Long Chain Fraction  Short Chain Fraction    MwL   MwS  Type  \\\n",
       "0                  0.0                   1.0  18952  4323     1   \n",
       "1                  0.0                   1.0  18952  4323     1   \n",
       "2                  0.0                   1.0  18952  4323     1   \n",
       "3                  0.0                   1.0  18952  4323     1   \n",
       "4                  0.0                   1.0  18952  4323     1   \n",
       "\n",
       "   Stress (N/mm2)  Strain (%)        Info  \n",
       "0        0.001329      0.1848  Pure-Short  \n",
       "1        0.002660      0.2450  Pure-Short  \n",
       "2        0.005310      0.3090  Pure-Short  \n",
       "3        0.006640      0.3820  Pure-Short  \n",
       "4        0.007970      0.4330  Pure-Short  "
      ]
     },
     "execution_count": 123,
     "metadata": {},
     "output_type": "execute_result"
    }
   ],
   "source": [
    "dfr1.head()"
   ]
  },
  {
   "cell_type": "code",
   "execution_count": 124,
   "id": "2977d8a6",
   "metadata": {},
   "outputs": [],
   "source": [
    "df_pdms_2=dfr1[dfr1['Type']==3]"
   ]
  },
  {
   "cell_type": "code",
   "execution_count": 125,
   "id": "be850873",
   "metadata": {},
   "outputs": [],
   "source": [
    "y_prd_pdms_3=xgb_best_v2.predict(df_pdms_2[['Long Chain Fraction','Short Chain Fraction','MwL','MwS','Type','Stress (N/mm2)']])"
   ]
  },
  {
   "cell_type": "code",
   "execution_count": 126,
   "id": "c795ea0b",
   "metadata": {},
   "outputs": [
    {
     "data": {
      "image/png": "[encoded data removed]",
      "text/plain": [
       "<Figure size 432x288 with 1 Axes>"
      ]
     },
     "metadata": {
      "needs_background": "light"
     },
     "output_type": "display_data"
    }
   ],
   "source": [
    "plt.figure()\n",
    "plt.plot(df_pdms_2['Strain (%)'],df_pdms_2['Stress (N/mm2)'],'b')\n",
    "plt.plot(y_prd_pdms_3,df_pdms_2['Stress (N/mm2)'],'r')\n",
    "plt.tick_params(axis=\"x\", which=\"both\", bottom=True, top=False, labelbottom=True)\n",
    "plt.ylabel(\"Stress (N/mm2)\")\n",
    "plt.xlabel(\"Strain(%)\")\n",
    "plt.legend(['True Stress', 'Predicted Stress'])\n",
    "plt.show()"
   ]
  },
  {
   "cell_type": "code",
   "execution_count": null,
   "id": "5dc50e60",
   "metadata": {},
   "outputs": [],
   "source": []
  },
  {
   "cell_type": "code",
   "execution_count": null,
   "id": "c26f11cd",
   "metadata": {},
   "outputs": [],
   "source": []
  },
  {
   "cell_type": "code",
   "execution_count": null,
   "id": "5d521573",
   "metadata": {},
   "outputs": [],
   "source": []
  },
  {
   "cell_type": "code",
   "execution_count": null,
   "id": "b3fd2963",
   "metadata": {},
   "outputs": [],
   "source": []
  }
 ],
 "metadata": {
  "kernelspec": {
   "display_name": "Python 3",
   "language": "python",
   "name": "python3"
  },
  "language_info": {
   "codemirror_mode": {
    "name": "ipython",
    "version": 3
   },
   "file_extension": ".py",
   "mimetype": "text/x-python",
   "name": "python",
   "nbconvert_exporter": "python",
   "pygments_lexer": "ipython3",
   "version": "3.8.8"
  }
 },
 "nbformat": 4,
 "nbformat_minor": 5
}
